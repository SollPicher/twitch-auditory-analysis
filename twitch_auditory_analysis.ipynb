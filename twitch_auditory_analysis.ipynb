{
 "cells": [
  {
   "cell_type": "markdown",
   "id": "later-victory",
   "metadata": {},
   "source": [
    "## Часть 1 - Парсинг с сайта Streamersbase.ru"
   ]
  },
  {
   "cell_type": "markdown",
   "id": "fb216873-82c5-4428-8096-f8f45622edec",
   "metadata": {},
   "source": [
    "### Часть 1 - Парсинг с сайта Streamersbase.ru"
   ]
  },
  {
   "cell_type": "code",
   "execution_count": null,
   "id": "9ae6fa4c-fc88-487c-aa4b-9c1f291deedb",
   "metadata": {},
   "outputs": [],
   "source": [
    "import requests\n",
    "import lxml\n",
    "from bs4 import BeautifulSoup\n",
    "import json\n",
    "import time\n",
    "import csv\n",
    "import random\n",
    "import pandas as pd"
   ]
  },
  {
   "cell_type": "markdown",
   "id": "4b5b44c8-8adf-45b2-b3ba-32002e840f89",
   "metadata": {},
   "source": [
    "#### 1. Напишем такой цикл, чтобы каждая страница сайта (на которой несколько карточек стримеро), сохранилась отдельным html (всего 138 страниц).\n",
    "#### 2. Затем на каждой странице будем искать ссылку на карточки стримера (она находите в классе \"streamer-name\" и записывать в json\n",
    "#### 3. Загрузим это в переменную с которой потом будем работать\n",
    "#### 4. Для удобства отобразим, сколько их всео"
   ]
  },
  {
   "cell_type": "code",
   "execution_count": 94,
   "id": "trying-contribution",
   "metadata": {},
   "outputs": [
    {
     "name": "stdout",
     "output_type": "stream",
     "text": [
      "Всего карточек стримеров: 2755\n",
      "Всего страниц сайта: 138\n"
     ]
    }
   ],
   "source": [
    "all_streamers_list = []\n",
    "count = 0\n",
    "\n",
    "for i in range(1,139):\n",
    "    \n",
    "    url = \"https://streamersbase.ru/streamers?page=\" + str(i)\n",
    "    \n",
    "    headers = {\n",
    "    \"accept\": \"*/*\",\n",
    "    \"user-agent\": \"Mozilla/5.0 (Macintosh; Intel Mac OS X 10_14_6) AppleWebKit/537.36 (KHTML, like Gecko) Chrome/91.0.4472.114 Safari/537.36\"\n",
    "}\n",
    "    req = requests.get(url, headers=headers)\n",
    "    src = req.text\n",
    "    \n",
    "    with open(f\"data/pages/{i}_index.html\", \"w\") as file:\n",
    "        file.write(src)\n",
    "    \n",
    "    with open(f\"data/pages/{i}_index.html\") as file:\n",
    "        src = file.read()\n",
    "    \n",
    "    soup = BeautifulSoup(src, \"lxml\")\n",
    "    \n",
    "    all_streamers_hrefs = soup.find_all(class_=\"streamer-name\")\n",
    "    \n",
    "\n",
    "    for item in all_streamers_hrefs:\n",
    "        \n",
    "        item_href = \"https://streamersbase.ru\" + item.get(\"href\")\n",
    "        all_streamers_list.append(item_href)\n",
    "\n",
    "    count += 1\n",
    "\n",
    "with open(\"data/all_streamers_list.json\", \"w\") as file:\n",
    "    json.dump(all_streamers_list, file, indent=4, ensure_ascii=False) \n",
    "\n",
    "with open(\"data/all_streamers_list.json\") as file:\n",
    "    all_streamers = json.load(file)\n",
    "    \n",
    "    \n",
    "print(f\"Всего карточек стримеров: {len(all_streamers_list)}\")\n",
    "print(f\"Всего страниц сайта: {count}\")"
   ]
  },
  {
   "cell_type": "markdown",
   "id": "5908833e-0245-40d9-bba4-8d842811e2b4",
   "metadata": {},
   "source": [
    "#### Далее сделаем цикл, в котором:\n",
    "#### 1. Соберем названия столбцов с страницы стримера-1 (с данными, которые потом будем собирать) и запишем их в файл\n",
    "#### 2. Теперь соберем необходимые данные и допишем в файл\n",
    "#### 3. Далее будем дописывать новые данные в уже созданный файлю"
   ]
  },
  {
   "cell_type": "code",
   "execution_count": 102,
   "id": "sexual-verification",
   "metadata": {},
   "outputs": [
    {
     "name": "stdout",
     "output_type": "stream",
     "text": [
      "Всего итераций: 2755\n",
      "ФАЙЛ ЗАПИСЫВАЕТСЯ\n",
      "100,200,300,400,500,600,700,800,900,1000,1100,1200,1300,1400,1500,1600,1700,1800,1900,2000,2100,2200,2300,2400,2500,2600,2700,Работа завершена\n"
     ]
    }
   ],
   "source": [
    "iteration_count = len(all_streamers)\n",
    "count = 0\n",
    "\n",
    "print(f\"Всего итераций: {iteration_count}\")\n",
    "\n",
    "for streamer_href in all_streamers_list:\n",
    "\n",
    "    req = requests.get(url=streamer_href, headers=headers)\n",
    "    src = req.text\n",
    "    time.sleep(1)\n",
    "\n",
    "    with open(f\"data/streamers_htmls/{count}.html\", \"w\") as file:\n",
    "        file.write(src)\n",
    "\n",
    "    with open(f\"data/streamers_htmls/{count}.html\") as file:\n",
    "        src = file.read()\n",
    "\n",
    "    soup = BeautifulSoup(src, \"lxml\")\n",
    "\n",
    "    # Соберем названия нужных столбцов \n",
    "    table_about = soup.find_all(class_=\"table bio-table\")[0].find_all(class_=\"text-muted\")\n",
    "    streamer_gender = table_about[1].text.strip()\n",
    "    streamer_age = table_about[3].text.strip()\n",
    "\n",
    "    table_social = soup.find_all(class_=\"table bio-table\")[1].find_all(class_=\"text-muted\")\n",
    "    telegram = table_social[0].text.strip()\n",
    "    vkontakte = table_social[1].text.strip()\n",
    "    instagram = table_social[2].text.strip()\n",
    "    tiktok = table_social[3].text.strip()\n",
    "    facebook = table_social[4].text.strip()\n",
    "    youtube = table_social[5].text.strip()\n",
    "    twitter = table_social[6].text.strip()\n",
    "    discord = table_social[7].text.strip()\n",
    "    steam = table_social[8].text.strip()\n",
    "    twitch = table_social[9].text.strip()\n",
    "    email = table_social[10].text.strip()\n",
    "    \n",
    "    # На первой итерации запишем в файл названия столбцов, чтобы русские символы отображались добави utf-8 кодировку\n",
    "    if count < 1:\n",
    "        \n",
    "        print(\"ФАЙЛ ЗАПИСЫВАЕТСЯ\")\n",
    "        with open(f\"data/all_streamers_data.csv\", \"w\",  encoding=\"utf-8\") as file:\n",
    "            writer = csv.writer(file, delimiter=\",\")\n",
    "            writer.writerow(\n",
    "                (\n",
    "                    streamer_gender,\n",
    "                    streamer_age,\n",
    "                    telegram,\n",
    "                    vkontakte,\n",
    "                    instagram,\n",
    "                    tiktok,\n",
    "                    facebook,\n",
    "                    youtube,\n",
    "                    twitter,\n",
    "                    discord,\n",
    "                    steam,\n",
    "                    twitch,\n",
    "                    email,  \n",
    "                )\n",
    "\n",
    "            )\n",
    "        \n",
    "    # Соберем данные стримеров по каждому из стобцов, создадим словарь для данных, куда будем их записывать\n",
    "    streamer_data = []\n",
    "\n",
    "    # Т.к. нам нужны не все из этой таблцы выберем конкретные и добавив в словарь (как нашли в нижнем чанке)\n",
    "    streamer_data_about = soup.find_all(class_=\"table bio-table\")[0].find_all(class_=\"text-fw-500\")\n",
    "    streamer_data.append(streamer_data_about[1].text)\n",
    "    streamer_data.append(streamer_data_about[3].text.strip())\n",
    "\n",
    "    # Из этой таблицы нужны все данные - пройдем циклом, добавляя в словарь\n",
    "    streamer_data_social = soup.find_all(class_=\"table bio-table\")[1].find_all(class_=\"text-fw-500\")\n",
    "    \n",
    "    for i in streamer_data_social:\n",
    "        \n",
    "        streamer_data.append(i.text.strip())\n",
    "           \n",
    "    # Будем апендить уже созданный ранее файл и записывать данные стримеров\n",
    "    with open(\"data/all_streamers_data.csv\", \"a\",  encoding=\"utf-8\") as file:\n",
    "        writer = csv.writer(file, delimiter=\",\")\n",
    "        writer.writerow(\n",
    "            (\n",
    "                 streamer_data\n",
    "            )\n",
    "\n",
    "        )\n",
    "\n",
    "    # Для отслеживания прогресса будем выводить статус. Также увеличивать кантер на 1, чтобы двигаться по стримерам.    \n",
    "    count += 1\n",
    "    \n",
    "    # Будем выводить статус по кол-ву собранных стримеров в разрезе 100\n",
    "    if count % 100 == 0:\n",
    "        \n",
    "        print(count, end=\",\")\n",
    "    \n",
    "    iteration_count = iteration_count - 1\n",
    "\n",
    "    # Выведем информацию о завершении\n",
    "    if iteration_count == 0:\n",
    "        \n",
    "        print(\"Работа завершена\")\n",
    "        break\n",
    "\n",
    "    time.sleep(random.randrange(1, 2))"
   ]
  },
  {
   "cell_type": "markdown",
   "id": "59d2326e-0533-48fd-aa8d-50fc3443d4d6",
   "metadata": {},
   "source": [
    "## Как были найдены необходимые столбцы?"
   ]
  },
  {
   "cell_type": "code",
   "execution_count": 122,
   "id": "generous-missile",
   "metadata": {},
   "outputs": [
    {
     "name": "stdout",
     "output_type": "stream",
     "text": [
      "0: Настоящее имя s1mple:\n",
      "1: Пол:\n",
      "2: Дата рождения:\n",
      "3: Возраст:\n",
      "4: Рост:\n",
      "5: Знак зодиака:\n",
      "6: Место рождения:\n",
      "7: Место проживания:\n",
      "8: Семейное положение:\n",
      "9: Образование:\n"
     ]
    }
   ],
   "source": [
    "# С помощью цикла посмотрим, какой элемент словаря отвечает за какое поле в таблице общее и выберем нужные: 1, 3 (пол и возраст)\n",
    "\n",
    "counts = 0\n",
    "\n",
    "for i in table_about:\n",
    "    print(f\"{counts}: {i.text}\")\n",
    "    \n",
    "    counts += 1"
   ]
  },
  {
   "cell_type": "code",
   "execution_count": 131,
   "id": "through-mainstream",
   "metadata": {},
   "outputs": [
    {
     "name": "stdout",
     "output_type": "stream",
     "text": [
      "0: Telegram:\n",
      "1: ВКонтакте:\n",
      "2: Instagram:\n",
      "3: TikTok:\n",
      "4: Facebook:\n",
      "5: YouTube:\n",
      "6: Twitter:\n",
      "7: Discord:\n",
      "8: Steam:\n",
      "9: Twitch:\n",
      "10: E-mail:\n"
     ]
    }
   ],
   "source": [
    "# Аналогично для таблицы социальных сетей - возьмем все.\n",
    "\n",
    "counts = 0\n",
    "\n",
    "for i in table_social:\n",
    "    print(f\"{counts}: {i.text}\")\n",
    "    \n",
    "    counts += 1"
   ]
  },
  {
   "cell_type": "code",
   "execution_count": 10,
   "id": "korean-plasma",
   "metadata": {},
   "outputs": [],
   "source": [
    "# Загрузим получвшийся файл в пандас\n",
    "\n",
    "df = pd.read_csv(\"data/all_streamers_data.csv\")"
   ]
  },
  {
   "cell_type": "code",
   "execution_count": 11,
   "id": "surprised-librarian",
   "metadata": {},
   "outputs": [
    {
     "data": {
      "text/html": [
       "<div>\n",
       "<style scoped>\n",
       "    .dataframe tbody tr th:only-of-type {\n",
       "        vertical-align: middle;\n",
       "    }\n",
       "\n",
       "    .dataframe tbody tr th {\n",
       "        vertical-align: top;\n",
       "    }\n",
       "\n",
       "    .dataframe thead th {\n",
       "        text-align: right;\n",
       "    }\n",
       "</style>\n",
       "<table border=\"1\" class=\"dataframe\">\n",
       "  <thead>\n",
       "    <tr style=\"text-align: right;\">\n",
       "      <th></th>\n",
       "      <th>Пол:</th>\n",
       "      <th>Возраст:</th>\n",
       "      <th>Telegram:</th>\n",
       "      <th>ВКонтакте:</th>\n",
       "      <th>Instagram:</th>\n",
       "      <th>TikTok:</th>\n",
       "      <th>Facebook:</th>\n",
       "      <th>YouTube:</th>\n",
       "      <th>Twitter:</th>\n",
       "      <th>Discord:</th>\n",
       "      <th>Steam:</th>\n",
       "      <th>Twitch:</th>\n",
       "      <th>E-mail:</th>\n",
       "    </tr>\n",
       "  </thead>\n",
       "  <tbody>\n",
       "    <tr>\n",
       "      <th>0</th>\n",
       "      <td>Мужской</td>\n",
       "      <td>23 года</td>\n",
       "      <td>Неизвестно</td>\n",
       "      <td>vk.com/s1mpjl3</td>\n",
       "      <td>www.instagram.com/s1mpleO</td>\n",
       "      <td>Неизвестно</td>\n",
       "      <td>Неизвестно</td>\n",
       "      <td>www.youtube.com/channel/UCWrZWoNJaF-pkkLWmg3Uzjg</td>\n",
       "      <td>twitter.com/s1mpleo</td>\n",
       "      <td>Неизвестно</td>\n",
       "      <td>steamcommunity.com/id/officials1mple</td>\n",
       "      <td>twitch.tv/s1mple</td>\n",
       "      <td>Неизвестно</td>\n",
       "    </tr>\n",
       "    <tr>\n",
       "      <th>1</th>\n",
       "      <td>Мужской</td>\n",
       "      <td>24 года</td>\n",
       "      <td>Неизвестно</td>\n",
       "      <td>vk.com/lilbuster</td>\n",
       "      <td>www.instagram.com/busterzy</td>\n",
       "      <td>www.tiktok.com/@busterenko_</td>\n",
       "      <td>Неизвестно</td>\n",
       "      <td>www.youtube.com/channel/UCve3ohcLCBO5uFoQcFGZMPQ</td>\n",
       "      <td>Неизвестно</td>\n",
       "      <td>Неизвестно</td>\n",
       "      <td>steamcommunity.com/id/slavabuster</td>\n",
       "      <td>twitch.tv/buster</td>\n",
       "      <td>buster@streamers-alliance.gg,  busterpwnz@gmai...</td>\n",
       "    </tr>\n",
       "    <tr>\n",
       "      <th>2</th>\n",
       "      <td>Мужской</td>\n",
       "      <td>24 года</td>\n",
       "      <td>Неизвестно</td>\n",
       "      <td>vk.com/evelone</td>\n",
       "      <td>www.instagram.com/evelone192</td>\n",
       "      <td>Неизвестно</td>\n",
       "      <td>Неизвестно</td>\n",
       "      <td>www.youtube.com/evelone192</td>\n",
       "      <td>Неизвестно</td>\n",
       "      <td>discordapp.com/invite/evelone</td>\n",
       "      <td>steamcommunity.com/groups/Evelonegroup</td>\n",
       "      <td>twitch.tv/evelone192</td>\n",
       "      <td>kozakovdelovoy@yandex.ua</td>\n",
       "    </tr>\n",
       "    <tr>\n",
       "      <th>3</th>\n",
       "      <td>Мужской</td>\n",
       "      <td>23 года</td>\n",
       "      <td>Неизвестно</td>\n",
       "      <td>vk.com/flamesv</td>\n",
       "      <td>instagram.com/br4tishkin</td>\n",
       "      <td>Неизвестно</td>\n",
       "      <td>Неизвестно</td>\n",
       "      <td>www.youtube.com/c/bratishkinoff</td>\n",
       "      <td>Неизвестно</td>\n",
       "      <td>discord.gg/89squad</td>\n",
       "      <td>steamcommunity.com/id/FlameSV</td>\n",
       "      <td>twitch.tv/bratishkinoff</td>\n",
       "      <td>bratishkinoff@mail.ru</td>\n",
       "    </tr>\n",
       "    <tr>\n",
       "      <th>4</th>\n",
       "      <td>Студия</td>\n",
       "      <td>Неизвестно</td>\n",
       "      <td>Неизвестно</td>\n",
       "      <td>vk.com/starladdercsgo</td>\n",
       "      <td>instagram.com/starladdercsgo</td>\n",
       "      <td>Неизвестно</td>\n",
       "      <td>facebook.com/starladdercsgo</td>\n",
       "      <td>youtube.com/starladdercsgo</td>\n",
       "      <td>twitter.com/starladdercsgo</td>\n",
       "      <td>Неизвестно</td>\n",
       "      <td>steamcommunity.com/groups/StarLadder5</td>\n",
       "      <td>twitch.tv/starladder5</td>\n",
       "      <td>Неизвестно</td>\n",
       "    </tr>\n",
       "  </tbody>\n",
       "</table>\n",
       "</div>"
      ],
      "text/plain": [
       "      Пол:    Возраст:   Telegram:             ВКонтакте:  \\\n",
       "0  Мужской     23 года  Неизвестно         vk.com/s1mpjl3   \n",
       "1  Мужской     24 года  Неизвестно       vk.com/lilbuster   \n",
       "2  Мужской     24 года  Неизвестно         vk.com/evelone   \n",
       "3  Мужской     23 года  Неизвестно         vk.com/flamesv   \n",
       "4   Студия  Неизвестно  Неизвестно  vk.com/starladdercsgo   \n",
       "\n",
       "                     Instagram:                      TikTok:  \\\n",
       "0     www.instagram.com/s1mpleO                   Неизвестно   \n",
       "1    www.instagram.com/busterzy  www.tiktok.com/@busterenko_   \n",
       "2  www.instagram.com/evelone192                   Неизвестно   \n",
       "3      instagram.com/br4tishkin                   Неизвестно   \n",
       "4  instagram.com/starladdercsgo                   Неизвестно   \n",
       "\n",
       "                     Facebook:  \\\n",
       "0                   Неизвестно   \n",
       "1                   Неизвестно   \n",
       "2                   Неизвестно   \n",
       "3                   Неизвестно   \n",
       "4  facebook.com/starladdercsgo   \n",
       "\n",
       "                                           YouTube:  \\\n",
       "0  www.youtube.com/channel/UCWrZWoNJaF-pkkLWmg3Uzjg   \n",
       "1  www.youtube.com/channel/UCve3ohcLCBO5uFoQcFGZMPQ   \n",
       "2                        www.youtube.com/evelone192   \n",
       "3                   www.youtube.com/c/bratishkinoff   \n",
       "4                        youtube.com/starladdercsgo   \n",
       "\n",
       "                     Twitter:                       Discord:  \\\n",
       "0         twitter.com/s1mpleo                     Неизвестно   \n",
       "1                  Неизвестно                     Неизвестно   \n",
       "2                  Неизвестно  discordapp.com/invite/evelone   \n",
       "3                  Неизвестно             discord.gg/89squad   \n",
       "4  twitter.com/starladdercsgo                     Неизвестно   \n",
       "\n",
       "                                   Steam:                  Twitch:  \\\n",
       "0    steamcommunity.com/id/officials1mple         twitch.tv/s1mple   \n",
       "1       steamcommunity.com/id/slavabuster         twitch.tv/buster   \n",
       "2  steamcommunity.com/groups/Evelonegroup     twitch.tv/evelone192   \n",
       "3           steamcommunity.com/id/FlameSV  twitch.tv/bratishkinoff   \n",
       "4   steamcommunity.com/groups/StarLadder5    twitch.tv/starladder5   \n",
       "\n",
       "                                             E-mail:  \n",
       "0                                         Неизвестно  \n",
       "1  buster@streamers-alliance.gg,  busterpwnz@gmai...  \n",
       "2                           kozakovdelovoy@yandex.ua  \n",
       "3                              bratishkinoff@mail.ru  \n",
       "4                                         Неизвестно  "
      ]
     },
     "execution_count": 11,
     "metadata": {},
     "output_type": "execute_result"
    }
   ],
   "source": [
    "df.head()"
   ]
  },
  {
   "cell_type": "code",
   "execution_count": 12,
   "id": "unusual-settlement",
   "metadata": {},
   "outputs": [
    {
     "data": {
      "text/html": [
       "<div>\n",
       "<style scoped>\n",
       "    .dataframe tbody tr th:only-of-type {\n",
       "        vertical-align: middle;\n",
       "    }\n",
       "\n",
       "    .dataframe tbody tr th {\n",
       "        vertical-align: top;\n",
       "    }\n",
       "\n",
       "    .dataframe thead th {\n",
       "        text-align: right;\n",
       "    }\n",
       "</style>\n",
       "<table border=\"1\" class=\"dataframe\">\n",
       "  <thead>\n",
       "    <tr style=\"text-align: right;\">\n",
       "      <th></th>\n",
       "      <th>Пол</th>\n",
       "      <th>Возраст</th>\n",
       "      <th>Telegram</th>\n",
       "      <th>ВКонтакте</th>\n",
       "      <th>Instagram</th>\n",
       "      <th>TikTok</th>\n",
       "      <th>Facebook</th>\n",
       "      <th>YouTube</th>\n",
       "      <th>Twitter</th>\n",
       "      <th>Discord</th>\n",
       "      <th>Steam</th>\n",
       "      <th>Twitch</th>\n",
       "      <th>E-mail</th>\n",
       "    </tr>\n",
       "  </thead>\n",
       "  <tbody>\n",
       "    <tr>\n",
       "      <th>0</th>\n",
       "      <td>Мужской</td>\n",
       "      <td>23 года</td>\n",
       "      <td>Неизвестно</td>\n",
       "      <td>vk.com/s1mpjl3</td>\n",
       "      <td>www.instagram.com/s1mpleO</td>\n",
       "      <td>Неизвестно</td>\n",
       "      <td>Неизвестно</td>\n",
       "      <td>www.youtube.com/channel/UCWrZWoNJaF-pkkLWmg3Uzjg</td>\n",
       "      <td>twitter.com/s1mpleo</td>\n",
       "      <td>Неизвестно</td>\n",
       "      <td>steamcommunity.com/id/officials1mple</td>\n",
       "      <td>twitch.tv/s1mple</td>\n",
       "      <td>Неизвестно</td>\n",
       "    </tr>\n",
       "    <tr>\n",
       "      <th>1</th>\n",
       "      <td>Мужской</td>\n",
       "      <td>24 года</td>\n",
       "      <td>Неизвестно</td>\n",
       "      <td>vk.com/lilbuster</td>\n",
       "      <td>www.instagram.com/busterzy</td>\n",
       "      <td>www.tiktok.com/@busterenko_</td>\n",
       "      <td>Неизвестно</td>\n",
       "      <td>www.youtube.com/channel/UCve3ohcLCBO5uFoQcFGZMPQ</td>\n",
       "      <td>Неизвестно</td>\n",
       "      <td>Неизвестно</td>\n",
       "      <td>steamcommunity.com/id/slavabuster</td>\n",
       "      <td>twitch.tv/buster</td>\n",
       "      <td>buster@streamers-alliance.gg,  busterpwnz@gmai...</td>\n",
       "    </tr>\n",
       "    <tr>\n",
       "      <th>2</th>\n",
       "      <td>Мужской</td>\n",
       "      <td>24 года</td>\n",
       "      <td>Неизвестно</td>\n",
       "      <td>vk.com/evelone</td>\n",
       "      <td>www.instagram.com/evelone192</td>\n",
       "      <td>Неизвестно</td>\n",
       "      <td>Неизвестно</td>\n",
       "      <td>www.youtube.com/evelone192</td>\n",
       "      <td>Неизвестно</td>\n",
       "      <td>discordapp.com/invite/evelone</td>\n",
       "      <td>steamcommunity.com/groups/Evelonegroup</td>\n",
       "      <td>twitch.tv/evelone192</td>\n",
       "      <td>kozakovdelovoy@yandex.ua</td>\n",
       "    </tr>\n",
       "    <tr>\n",
       "      <th>3</th>\n",
       "      <td>Мужской</td>\n",
       "      <td>23 года</td>\n",
       "      <td>Неизвестно</td>\n",
       "      <td>vk.com/flamesv</td>\n",
       "      <td>instagram.com/br4tishkin</td>\n",
       "      <td>Неизвестно</td>\n",
       "      <td>Неизвестно</td>\n",
       "      <td>www.youtube.com/c/bratishkinoff</td>\n",
       "      <td>Неизвестно</td>\n",
       "      <td>discord.gg/89squad</td>\n",
       "      <td>steamcommunity.com/id/FlameSV</td>\n",
       "      <td>twitch.tv/bratishkinoff</td>\n",
       "      <td>bratishkinoff@mail.ru</td>\n",
       "    </tr>\n",
       "    <tr>\n",
       "      <th>4</th>\n",
       "      <td>Студия</td>\n",
       "      <td>Неизвестно</td>\n",
       "      <td>Неизвестно</td>\n",
       "      <td>vk.com/starladdercsgo</td>\n",
       "      <td>instagram.com/starladdercsgo</td>\n",
       "      <td>Неизвестно</td>\n",
       "      <td>facebook.com/starladdercsgo</td>\n",
       "      <td>youtube.com/starladdercsgo</td>\n",
       "      <td>twitter.com/starladdercsgo</td>\n",
       "      <td>Неизвестно</td>\n",
       "      <td>steamcommunity.com/groups/StarLadder5</td>\n",
       "      <td>twitch.tv/starladder5</td>\n",
       "      <td>Неизвестно</td>\n",
       "    </tr>\n",
       "  </tbody>\n",
       "</table>\n",
       "</div>"
      ],
      "text/plain": [
       "       Пол     Возраст    Telegram              ВКонтакте  \\\n",
       "0  Мужской     23 года  Неизвестно         vk.com/s1mpjl3   \n",
       "1  Мужской     24 года  Неизвестно       vk.com/lilbuster   \n",
       "2  Мужской     24 года  Неизвестно         vk.com/evelone   \n",
       "3  Мужской     23 года  Неизвестно         vk.com/flamesv   \n",
       "4   Студия  Неизвестно  Неизвестно  vk.com/starladdercsgo   \n",
       "\n",
       "                      Instagram                       TikTok  \\\n",
       "0     www.instagram.com/s1mpleO                   Неизвестно   \n",
       "1    www.instagram.com/busterzy  www.tiktok.com/@busterenko_   \n",
       "2  www.instagram.com/evelone192                   Неизвестно   \n",
       "3      instagram.com/br4tishkin                   Неизвестно   \n",
       "4  instagram.com/starladdercsgo                   Неизвестно   \n",
       "\n",
       "                      Facebook  \\\n",
       "0                   Неизвестно   \n",
       "1                   Неизвестно   \n",
       "2                   Неизвестно   \n",
       "3                   Неизвестно   \n",
       "4  facebook.com/starladdercsgo   \n",
       "\n",
       "                                            YouTube  \\\n",
       "0  www.youtube.com/channel/UCWrZWoNJaF-pkkLWmg3Uzjg   \n",
       "1  www.youtube.com/channel/UCve3ohcLCBO5uFoQcFGZMPQ   \n",
       "2                        www.youtube.com/evelone192   \n",
       "3                   www.youtube.com/c/bratishkinoff   \n",
       "4                        youtube.com/starladdercsgo   \n",
       "\n",
       "                      Twitter                        Discord  \\\n",
       "0         twitter.com/s1mpleo                     Неизвестно   \n",
       "1                  Неизвестно                     Неизвестно   \n",
       "2                  Неизвестно  discordapp.com/invite/evelone   \n",
       "3                  Неизвестно             discord.gg/89squad   \n",
       "4  twitter.com/starladdercsgo                     Неизвестно   \n",
       "\n",
       "                                    Steam                   Twitch  \\\n",
       "0    steamcommunity.com/id/officials1mple         twitch.tv/s1mple   \n",
       "1       steamcommunity.com/id/slavabuster         twitch.tv/buster   \n",
       "2  steamcommunity.com/groups/Evelonegroup     twitch.tv/evelone192   \n",
       "3           steamcommunity.com/id/FlameSV  twitch.tv/bratishkinoff   \n",
       "4   steamcommunity.com/groups/StarLadder5    twitch.tv/starladder5   \n",
       "\n",
       "                                              E-mail  \n",
       "0                                         Неизвестно  \n",
       "1  buster@streamers-alliance.gg,  busterpwnz@gmai...  \n",
       "2                           kozakovdelovoy@yandex.ua  \n",
       "3                              bratishkinoff@mail.ru  \n",
       "4                                         Неизвестно  "
      ]
     },
     "execution_count": 12,
     "metadata": {},
     "output_type": "execute_result"
    }
   ],
   "source": [
    "# Наведем красоту - уберем двоеточия из названий столбцов\n",
    "\n",
    "df.columns = df.columns.str.replace(\":\", \"\", regex=True)\n",
    "df.head()"
   ]
  },
  {
   "cell_type": "code",
   "execution_count": 14,
   "id": "final-magnitude",
   "metadata": {},
   "outputs": [
    {
     "data": {
      "text/plain": [
       "(Неизвестно    1722\n",
       " Мужской        626\n",
       " Женский        338\n",
       " Студия          69\n",
       " Name: Пол, dtype: int64,\n",
       " Неизвестно    0.63\n",
       " Мужской       0.23\n",
       " Женский       0.12\n",
       " Студия        0.03\n",
       " Name: Пол, dtype: float64)"
      ]
     },
     "execution_count": 14,
     "metadata": {},
     "output_type": "execute_result"
    }
   ],
   "source": [
    "# Посмотрим возраст\n",
    "\n",
    "df[\"Пол\"].value_counts() , df[\"Пол\"].value_counts(normalize=True).round(2)"
   ]
  },
  {
   "cell_type": "code",
   "execution_count": 15,
   "id": "lesser-kernel",
   "metadata": {},
   "outputs": [
    {
     "data": {
      "text/plain": [
       "Неизвестно    2332\n",
       "27 лет          40\n",
       "24 года         37\n",
       "22 года         35\n",
       "26 лет          34\n",
       "28 лет          33\n",
       "29 лет          31\n",
       "25 лет          30\n",
       "23 года         25\n",
       "30 лет          23\n",
       "31 год          22\n",
       "33 года         20\n",
       "21 год          18\n",
       "32 года         18\n",
       "20 лет          15\n",
       "19 лет          10\n",
       "34 года          7\n",
       "18 лет           5\n",
       "17 лет           4\n",
       "35 лет           4\n",
       "39 лет           3\n",
       "36 лет           2\n",
       "38 лет           2\n",
       "1 год            1\n",
       "41 год           1\n",
       "42 года          1\n",
       "55 лет           1\n",
       "16 лет           1\n",
       "Name: Возраст, dtype: int64"
      ]
     },
     "execution_count": 15,
     "metadata": {},
     "output_type": "execute_result"
    }
   ],
   "source": [
    "# Видим, что с возрастом беда\n",
    "\n",
    "df[\"Возраст\"].value_counts()"
   ]
  },
  {
   "cell_type": "code",
   "execution_count": 16,
   "id": "developmental-darwin",
   "metadata": {},
   "outputs": [
    {
     "data": {
      "text/plain": [
       "Неизвестно    2332\n",
       "27              40\n",
       "24              37\n",
       "22              35\n",
       "26              34\n",
       "28              33\n",
       "29              31\n",
       "25              30\n",
       "23              25\n",
       "30              23\n",
       "31              22\n",
       "33              20\n",
       "32              18\n",
       "21              18\n",
       "20              15\n",
       "19              10\n",
       "34               7\n",
       "18               5\n",
       "17               4\n",
       "35               4\n",
       "39               3\n",
       "36               2\n",
       "38               2\n",
       "55               1\n",
       "16               1\n",
       "41               1\n",
       "1                1\n",
       "42               1\n",
       "Name: Возраст, dtype: int64"
      ]
     },
     "execution_count": 16,
     "metadata": {},
     "output_type": "execute_result"
    }
   ],
   "source": [
    "# Приведем возраст к одному виду - цифры года\n",
    "\n",
    "df['Возраст'] = df['Возраст'].str.replace(\"лет\", \"\", regex=True)\n",
    "df['Возраст'] = df['Возраст'].str.replace(\"года\", \"\", regex=True)\n",
    "df['Возраст'] = df['Возраст'].str.replace(\"год\", \"\", regex=True)\n",
    "df['Возраст'] = df['Возраст'].str.replace(\" \", \"\", regex=True)\n",
    "\n",
    "df[\"Возраст\"].value_counts()"
   ]
  },
  {
   "cell_type": "code",
   "execution_count": 60,
   "id": "angry-representative",
   "metadata": {},
   "outputs": [
    {
     "data": {
      "text/html": [
       "<div>\n",
       "<style scoped>\n",
       "    .dataframe tbody tr th:only-of-type {\n",
       "        vertical-align: middle;\n",
       "    }\n",
       "\n",
       "    .dataframe tbody tr th {\n",
       "        vertical-align: top;\n",
       "    }\n",
       "\n",
       "    .dataframe thead th {\n",
       "        text-align: right;\n",
       "    }\n",
       "</style>\n",
       "<table border=\"1\" class=\"dataframe\">\n",
       "  <thead>\n",
       "    <tr style=\"text-align: right;\">\n",
       "      <th></th>\n",
       "      <th>Пол</th>\n",
       "      <th>Возраст</th>\n",
       "      <th>Telegram</th>\n",
       "      <th>ВКонтакте</th>\n",
       "      <th>Instagram</th>\n",
       "      <th>TikTok</th>\n",
       "      <th>Facebook</th>\n",
       "      <th>YouTube</th>\n",
       "      <th>Twitter</th>\n",
       "      <th>Discord</th>\n",
       "      <th>Steam</th>\n",
       "      <th>Twitch</th>\n",
       "      <th>E-mail</th>\n",
       "    </tr>\n",
       "  </thead>\n",
       "  <tbody>\n",
       "    <tr>\n",
       "      <th>70</th>\n",
       "      <td>Мужской</td>\n",
       "      <td>1</td>\n",
       "      <td>Неизвестно</td>\n",
       "      <td>vk.com/teamnespit</td>\n",
       "      <td>www.instagram.com/spt083/</td>\n",
       "      <td>Неизвестно</td>\n",
       "      <td>Неизвестно</td>\n",
       "      <td>www.youtube.com/channel/UCuNB26UWfaQfF4ytLO84G...</td>\n",
       "      <td>Неизвестно</td>\n",
       "      <td>discordapp.com/invite/nespit</td>\n",
       "      <td>steamcommunity.com/id/spt083/</td>\n",
       "      <td>twitch.tv/spt083</td>\n",
       "      <td>Неизвестно</td>\n",
       "    </tr>\n",
       "  </tbody>\n",
       "</table>\n",
       "</div>"
      ],
      "text/plain": [
       "        Пол Возраст    Telegram          ВКонтакте                  Instagram  \\\n",
       "70  Мужской       1  Неизвестно  vk.com/teamnespit  www.instagram.com/spt083/   \n",
       "\n",
       "        TikTok    Facebook                                            YouTube  \\\n",
       "70  Неизвестно  Неизвестно  www.youtube.com/channel/UCuNB26UWfaQfF4ytLO84G...   \n",
       "\n",
       "       Twitter                       Discord                          Steam  \\\n",
       "70  Неизвестно  discordapp.com/invite/nespit  steamcommunity.com/id/spt083/   \n",
       "\n",
       "              Twitch      E-mail  \n",
       "70  twitch.tv/spt083  Неизвестно  "
      ]
     },
     "execution_count": 60,
     "metadata": {},
     "output_type": "execute_result"
    }
   ],
   "source": [
    "# Но есть возраст \"1\" - добавим его в неизвестно для чистоты\n",
    "\n",
    "df[df[\"Возраст\"] == \"1\"]"
   ]
  },
  {
   "cell_type": "code",
   "execution_count": 63,
   "id": "disciplinary-conjunction",
   "metadata": {},
   "outputs": [],
   "source": [
    "df.iloc[70, 1] = \"Неизвестно\""
   ]
  },
  {
   "cell_type": "code",
   "execution_count": 92,
   "id": "passing-island",
   "metadata": {},
   "outputs": [],
   "source": [
    "# Сохраним итоговый файл\n",
    "\n",
    "df.to_csv('data/all_streamers_data_final.csv', index=False)"
   ]
  },
  {
   "cell_type": "markdown",
   "id": "endless-finger",
   "metadata": {},
   "source": [
    "## Часть 2 - Парсинг данных пользователей VK\n",
    "\n",
    "## Перед этим проверим данные с сайта на корректность и че как"
   ]
  },
  {
   "cell_type": "code",
   "execution_count": 25,
   "id": "proved-nylon",
   "metadata": {},
   "outputs": [],
   "source": [
    "import re\n",
    "import numpy as np"
   ]
  },
  {
   "cell_type": "code",
   "execution_count": 19,
   "id": "contrary-shadow",
   "metadata": {},
   "outputs": [
    {
     "data": {
      "text/plain": [
       "(2755, 13)"
      ]
     },
     "execution_count": 19,
     "metadata": {},
     "output_type": "execute_result"
    }
   ],
   "source": [
    "vkgroups = pd.read_csv(\"data/all_streamers_data_final.csv\")\n",
    "vkgroups.shape"
   ]
  },
  {
   "cell_type": "code",
   "execution_count": 20,
   "id": "thirty-holder",
   "metadata": {},
   "outputs": [
    {
     "data": {
      "text/plain": [
       "Неизвестно               1953\n",
       "vk.com/ruslanabeylz         2\n",
       "vk.com/m69bhrm              2\n",
       "vk.com/babamtv              2\n",
       "vk.com/taersclub            2\n",
       "                         ... \n",
       "vk.com/ueber_marginal       1\n",
       "vk.com/id139431539          1\n",
       "vk.com/therockarmy          1\n",
       "vk.com/gamelifeow           1\n",
       "vk.com/streamann            1\n",
       "Name: ВКонтакте, Length: 795, dtype: int64"
      ]
     },
     "execution_count": 20,
     "metadata": {},
     "output_type": "execute_result"
    }
   ],
   "source": [
    "vkgroups['ВКонтакте'].value_counts()"
   ]
  },
  {
   "cell_type": "code",
   "execution_count": 23,
   "id": "choice-alexandria",
   "metadata": {},
   "outputs": [
    {
     "name": "stdout",
     "output_type": "stream",
     "text": [
      "Не указана группа ВК: 1953\n",
      "Указана группа ВК: 802\n"
     ]
    }
   ],
   "source": [
    "# Проверим сходятся ли цифры\n",
    "\n",
    "print(\"Не указана группа ВК:\", vkgroups[vkgroups['ВКонтакте'] == \"Неизвестно\"].loc[:, \"ВКонтакте\"].count())\n",
    "print(\"Указана группа ВК:\", vkgroups[vkgroups['ВКонтакте'] != \"Неизвестно\"].loc[:, \"ВКонтакте\"].count())"
   ]
  },
  {
   "cell_type": "code",
   "execution_count": 7,
   "id": "israeli-samba",
   "metadata": {},
   "outputs": [
    {
     "data": {
      "text/plain": [
       "2755"
      ]
     },
     "execution_count": 7,
     "metadata": {},
     "output_type": "execute_result"
    }
   ],
   "source": [
    "# Видим, что все ок\n",
    "\n",
    "1953 + 802"
   ]
  },
  {
   "cell_type": "code",
   "execution_count": 8,
   "id": "addressed-middle",
   "metadata": {},
   "outputs": [],
   "source": [
    "# Создадим отдельный дата фрейм с ссылками на группы\n",
    "\n",
    "vkgroups_group_link = pd.DataFrame()\n",
    "vkgroups_group_link[\"group_link\"] = vkgroups[vkgroups['ВКонтакте'] != \"Неизвестно\"].loc[:, \"ВКонтакте\"]\n",
    "vkgroups_group_link = vkgroups_group_link.dropna()"
   ]
  },
  {
   "cell_type": "code",
   "execution_count": 9,
   "id": "laden-joint",
   "metadata": {},
   "outputs": [
    {
     "data": {
      "text/html": [
       "<div>\n",
       "<style scoped>\n",
       "    .dataframe tbody tr th:only-of-type {\n",
       "        vertical-align: middle;\n",
       "    }\n",
       "\n",
       "    .dataframe tbody tr th {\n",
       "        vertical-align: top;\n",
       "    }\n",
       "\n",
       "    .dataframe thead th {\n",
       "        text-align: right;\n",
       "    }\n",
       "</style>\n",
       "<table border=\"1\" class=\"dataframe\">\n",
       "  <thead>\n",
       "    <tr style=\"text-align: right;\">\n",
       "      <th></th>\n",
       "      <th>group_link</th>\n",
       "    </tr>\n",
       "  </thead>\n",
       "  <tbody>\n",
       "    <tr>\n",
       "      <th>0</th>\n",
       "      <td>vk.com/s1mpjl3</td>\n",
       "    </tr>\n",
       "    <tr>\n",
       "      <th>1</th>\n",
       "      <td>vk.com/lilbuster</td>\n",
       "    </tr>\n",
       "    <tr>\n",
       "      <th>2</th>\n",
       "      <td>vk.com/evelone</td>\n",
       "    </tr>\n",
       "    <tr>\n",
       "      <th>3</th>\n",
       "      <td>vk.com/flamesv</td>\n",
       "    </tr>\n",
       "    <tr>\n",
       "      <th>4</th>\n",
       "      <td>vk.com/starladdercsgo</td>\n",
       "    </tr>\n",
       "    <tr>\n",
       "      <th>...</th>\n",
       "      <td>...</td>\n",
       "    </tr>\n",
       "    <tr>\n",
       "      <th>2700</th>\n",
       "      <td>vk.com/kate_mercy_stream</td>\n",
       "    </tr>\n",
       "    <tr>\n",
       "      <th>2705</th>\n",
       "      <td>vk.com/iriska_ira91</td>\n",
       "    </tr>\n",
       "    <tr>\n",
       "      <th>2707</th>\n",
       "      <td>vk.com/satanaqqpwnz_stream</td>\n",
       "    </tr>\n",
       "    <tr>\n",
       "      <th>2744</th>\n",
       "      <td>vk.com/s1rozha</td>\n",
       "    </tr>\n",
       "    <tr>\n",
       "      <th>2753</th>\n",
       "      <td>vk.com/satorik</td>\n",
       "    </tr>\n",
       "  </tbody>\n",
       "</table>\n",
       "<p>802 rows × 1 columns</p>\n",
       "</div>"
      ],
      "text/plain": [
       "                      group_link\n",
       "0                 vk.com/s1mpjl3\n",
       "1               vk.com/lilbuster\n",
       "2                 vk.com/evelone\n",
       "3                 vk.com/flamesv\n",
       "4          vk.com/starladdercsgo\n",
       "...                          ...\n",
       "2700    vk.com/kate_mercy_stream\n",
       "2705         vk.com/iriska_ira91\n",
       "2707  vk.com/satanaqqpwnz_stream\n",
       "2744              vk.com/s1rozha\n",
       "2753              vk.com/satorik\n",
       "\n",
       "[802 rows x 1 columns]"
      ]
     },
     "execution_count": 9,
     "metadata": {},
     "output_type": "execute_result"
    }
   ],
   "source": [
    "vkgroups_group_link"
   ]
  },
  {
   "cell_type": "markdown",
   "id": "verbal-tender",
   "metadata": {},
   "source": [
    "# На этом этапе экспертным взглядом пробежались по списку:\n",
    "## 1. Оказалось, что некоторые ссылки ведут на личные страницы, а не сообщества в ВК, поэтому добавили в цикл условие (будем печатать error)\n",
    "## 2. По той-же причине было решено экспертно добавить ТОП-10 стримеров ру сегмента (перед этим проверив, есть ли они в списке) (взяли отсюда https://cq.ru/articles/streaming/top-10-russkoiazychnykh-strimerov-2020-na-twitch) и несколько своих любимых :)\n",
    "## 3. Также экспертным взглядом прошлись по списку сообществ - удалили сообщества популярныx певцов (Крид и Тклила), т. к. они не постоянные стримеры и их аудитория даст большое искажение на данные (т.к. они большие)\n",
    "\n",
    "### Поэтому выгрузим список и вручную проверим ссылки на первой странице и заменим личные на сообщества, а также сделаем пункт 2 и 3"
   ]
  },
  {
   "cell_type": "code",
   "execution_count": 49,
   "id": "apparent-aerospace",
   "metadata": {},
   "outputs": [
    {
     "data": {
      "text/html": [
       "<div>\n",
       "<style scoped>\n",
       "    .dataframe tbody tr th:only-of-type {\n",
       "        vertical-align: middle;\n",
       "    }\n",
       "\n",
       "    .dataframe tbody tr th {\n",
       "        vertical-align: top;\n",
       "    }\n",
       "\n",
       "    .dataframe thead th {\n",
       "        text-align: right;\n",
       "    }\n",
       "</style>\n",
       "<table border=\"1\" class=\"dataframe\">\n",
       "  <thead>\n",
       "    <tr style=\"text-align: right;\">\n",
       "      <th></th>\n",
       "      <th>group_link</th>\n",
       "    </tr>\n",
       "  </thead>\n",
       "  <tbody>\n",
       "    <tr>\n",
       "      <th>0</th>\n",
       "      <td>vk.com/s1mpjl3</td>\n",
       "    </tr>\n",
       "  </tbody>\n",
       "</table>\n",
       "</div>"
      ],
      "text/plain": [
       "       group_link\n",
       "0  vk.com/s1mpjl3"
      ]
     },
     "execution_count": 49,
     "metadata": {},
     "output_type": "execute_result"
    }
   ],
   "source": [
    "# пример личной страницы\n",
    "\n",
    "vkgroups_group_link.head(1)"
   ]
  },
  {
   "cell_type": "code",
   "execution_count": 31,
   "id": "foreign-discussion",
   "metadata": {},
   "outputs": [],
   "source": [
    "# Сохраним файл для ручной правки\n",
    "\n",
    "vkgroups_group_link.to_csv(\"data/vkgroups_group_link.csv\", index=False)"
   ]
  },
  {
   "cell_type": "code",
   "execution_count": 50,
   "id": "chinese-mattress",
   "metadata": {},
   "outputs": [],
   "source": [
    "# загрузим получившийся файл\n",
    "\n",
    "vkgroups_group_link_modified = pd.read_csv(\"data/vkgroups_group_link_modified.csv\")"
   ]
  },
  {
   "cell_type": "code",
   "execution_count": 51,
   "id": "empty-hypothetical",
   "metadata": {},
   "outputs": [
    {
     "data": {
      "text/html": [
       "<div>\n",
       "<style scoped>\n",
       "    .dataframe tbody tr th:only-of-type {\n",
       "        vertical-align: middle;\n",
       "    }\n",
       "\n",
       "    .dataframe tbody tr th {\n",
       "        vertical-align: top;\n",
       "    }\n",
       "\n",
       "    .dataframe thead th {\n",
       "        text-align: right;\n",
       "    }\n",
       "</style>\n",
       "<table border=\"1\" class=\"dataframe\">\n",
       "  <thead>\n",
       "    <tr style=\"text-align: right;\">\n",
       "      <th></th>\n",
       "      <th>group_link</th>\n",
       "    </tr>\n",
       "  </thead>\n",
       "  <tbody>\n",
       "    <tr>\n",
       "      <th>0</th>\n",
       "      <td>https://vk.com/morethanthree</td>\n",
       "    </tr>\n",
       "    <tr>\n",
       "      <th>1</th>\n",
       "      <td>https://vk.com/publicvoodoosh</td>\n",
       "    </tr>\n",
       "    <tr>\n",
       "      <th>2</th>\n",
       "      <td>https://vk.com/cakestream</td>\n",
       "    </tr>\n",
       "    <tr>\n",
       "      <th>3</th>\n",
       "      <td>https://vk.com/vsemilyubim</td>\n",
       "    </tr>\n",
       "    <tr>\n",
       "      <th>4</th>\n",
       "      <td>https://vk.com/showram</td>\n",
       "    </tr>\n",
       "    <tr>\n",
       "      <th>...</th>\n",
       "      <td>...</td>\n",
       "    </tr>\n",
       "    <tr>\n",
       "      <th>802</th>\n",
       "      <td>vk.com/kate_mercy_stream</td>\n",
       "    </tr>\n",
       "    <tr>\n",
       "      <th>803</th>\n",
       "      <td>vk.com/iriska_ira91</td>\n",
       "    </tr>\n",
       "    <tr>\n",
       "      <th>804</th>\n",
       "      <td>vk.com/satanaqqpwnz_stream</td>\n",
       "    </tr>\n",
       "    <tr>\n",
       "      <th>805</th>\n",
       "      <td>vk.com/s1rozha</td>\n",
       "    </tr>\n",
       "    <tr>\n",
       "      <th>806</th>\n",
       "      <td>vk.com/satorik</td>\n",
       "    </tr>\n",
       "  </tbody>\n",
       "</table>\n",
       "<p>807 rows × 1 columns</p>\n",
       "</div>"
      ],
      "text/plain": [
       "                        group_link\n",
       "0     https://vk.com/morethanthree\n",
       "1    https://vk.com/publicvoodoosh\n",
       "2        https://vk.com/cakestream\n",
       "3       https://vk.com/vsemilyubim\n",
       "4           https://vk.com/showram\n",
       "..                             ...\n",
       "802       vk.com/kate_mercy_stream\n",
       "803            vk.com/iriska_ira91\n",
       "804     vk.com/satanaqqpwnz_stream\n",
       "805                 vk.com/s1rozha\n",
       "806                 vk.com/satorik\n",
       "\n",
       "[807 rows x 1 columns]"
      ]
     },
     "execution_count": 51,
     "metadata": {},
     "output_type": "execute_result"
    }
   ],
   "source": [
    "# На данном этапе всего 807 групп (скорее всего еще часть из них личные страницы)\n",
    "\n",
    "vkgroups_group_link_modified"
   ]
  },
  {
   "cell_type": "code",
   "execution_count": 52,
   "id": "circular-moisture",
   "metadata": {},
   "outputs": [
    {
     "name": "stderr",
     "output_type": "stream",
     "text": [
      "/opt/anaconda3/lib/python3.7/site-packages/ipykernel/ipkernel.py:287: DeprecationWarning: `should_run_async` will not call `transform_cell` automatically in the future. Please pass the result to `transformed_cell` argument and any exception that happen during thetransform in `preprocessing_exc_tuple` in IPython 7.17 and above.\n",
      "  and should_run_async(code)\n"
     ]
    }
   ],
   "source": [
    "# уберем лишнюю часть ссылки, оставив только название группы\n",
    "\n",
    "vkgroups_group_link_clear = pd.DataFrame()\n",
    "\n",
    "vkgroups_group_link_clear['group_link'] = vkgroups_group_link_modified['group_link'].str.replace('https://vk.com/','',regex=True)\n",
    "vkgroups_group_link_clear['group_link'] = vkgroups_group_link_clear['group_link'].str.replace('http://vk.com/','',regex=True)\n",
    "vkgroups_group_link_clear['group_link'] = vkgroups_group_link_clear['group_link'].str.replace('vk.com/','',regex=True)\n",
    "vkgroups_group_link_clear['group_link'] = vkgroups_group_link_clear['group_link'].str.replace('www.','',regex=True)"
   ]
  },
  {
   "cell_type": "code",
   "execution_count": 63,
   "id": "traditional-honolulu",
   "metadata": {},
   "outputs": [
    {
     "data": {
      "text/plain": [
       "['morethanthree', 'publicvoodoosh']"
      ]
     },
     "execution_count": 63,
     "metadata": {},
     "output_type": "execute_result"
    }
   ],
   "source": [
    "group_list"
   ]
  },
  {
   "cell_type": "code",
   "execution_count": 60,
   "id": "chemical-marathon",
   "metadata": {},
   "outputs": [
    {
     "data": {
      "text/plain": [
       "<bound method Series.unique of 0            morethanthree\n",
       "1           publicvoodoosh\n",
       "2               cakestream\n",
       "3              vsemilyubim\n",
       "4                  showram\n",
       "              ...         \n",
       "802      kate_mercy_stream\n",
       "803           iriska_ira91\n",
       "804    satanaqqpwnz_stream\n",
       "805                s1rozha\n",
       "806                satorik\n",
       "Name: group_link, Length: 807, dtype: object>"
      ]
     },
     "execution_count": 60,
     "metadata": {},
     "output_type": "execute_result"
    }
   ],
   "source": [
    "# все группы уникальны, всего 807 штук\n",
    "\n",
    "vkgroups_group_link_clear['group_link'].unique"
   ]
  },
  {
   "cell_type": "code",
   "execution_count": null,
   "id": "93a3c434-442d-4d3e-8e28-1b876994d382",
   "metadata": {},
   "outputs": [],
   "source": [
    "# создадим лист, в котором будут содержаться названия групп, с которыми далее будем работать (для начала выберем первые два в списке, чтобы не ждать овертайм)\n",
    "\n",
    "group_list = pdToList = list(vkgroups_group_link_clear['group_link'][0:2])"
   ]
  },
  {
   "cell_type": "markdown",
   "id": "naughty-twelve",
   "metadata": {},
   "source": [
    "# Работа с API_VK\n",
    "### На этом этапе засетапим парсер данных пользователей из ранее созданного листа. Для его работы нужен будет лист, содержащий в себе очищенные названия групп. При желании им можно будет парсить любой набор групп для дальнеших задач и получать: id/страну/город/дату рождения/пол, либо информацию о том, что они не указаны, c условием, что пользователь заходил в ВК после какой-то даты (для отсеивания ботов и т.д.)"
   ]
  },
  {
   "cell_type": "code",
   "execution_count": 24,
   "id": "e6b363b4-c84b-4f32-b087-40c168dc2fdd",
   "metadata": {},
   "outputs": [],
   "source": [
    "# установим библиотеку для работы с API ВК\n",
    "\n",
    "import vk_api"
   ]
  },
  {
   "cell_type": "code",
   "execution_count": 26,
   "id": "ready-latino",
   "metadata": {},
   "outputs": [],
   "source": [
    "# Тут нужно указать свой логин и пароль\n",
    "\n",
    "login = \"логин\"\n",
    "password = \"пароль\" "
   ]
  },
  {
   "cell_type": "code",
   "execution_count": 27,
   "id": "flying-expert",
   "metadata": {},
   "outputs": [],
   "source": [
    "# Зайдем в ВК\n",
    "\n",
    "vk_session = vk_api.VkApi(login, password)\n",
    "vk_session.auth()\n",
    "\n",
    "vk_api = vk_session.get_api()"
   ]
  },
  {
   "cell_type": "code",
   "execution_count": 28,
   "id": "fantastic-roots",
   "metadata": {},
   "outputs": [],
   "source": [
    "# Напишем функцию, которая будет высчитыват необходимое кол-во \"отступов\" от данных (т. к. присуствует ограничение на один вызов в 1к) для конкретной группы\n",
    "\n",
    "def get_offset(group_id):\n",
    "    count = vk_api.groups.getMembers(group_id = group_id,\n",
    "                                     v=5.103, \n",
    "                                     offset=0)\n",
    "    return count['count'] // 1000"
   ]
  },
  {
   "cell_type": "code",
   "execution_count": 31,
   "id": "12d5da43-7ed6-4d21-aa5b-ed21668ae79a",
   "metadata": {},
   "outputs": [
    {
     "data": {
      "text/plain": [
       "12"
      ]
     },
     "execution_count": 31,
     "metadata": {},
     "output_type": "execute_result"
    }
   ],
   "source": [
    "# Пример в группе \"morethanthree\" на текущий момент 12864 подписчиков.\n",
    "\n",
    "get_offset('morethanthree')"
   ]
  },
  {
   "cell_type": "markdown",
   "id": "ceed3e50-0205-4500-afd1-a7600f967329",
   "metadata": {},
   "source": [
    "### То есть, чтобы выгрузить все данные нужно будет: \n",
    "### 1. Cпарсить первые 1000\n",
    "### 2. Сделать отступ в 1000 и начать следующюю итерацию парсинга с 1001 до 2000\n",
    "### 3. Сделать отступ в 1000 и начать с 3001 до 4000\n",
    "### 4. И так далее столько раз, сколько мы получаем и написаной функции"
   ]
  },
  {
   "cell_type": "code",
   "execution_count": 7,
   "id": "fatal-detroit",
   "metadata": {},
   "outputs": [],
   "source": [
    "# Напишем функцию, которая из указаной группы будет собирать необходимые нам данные, либо указывать, что они не указаны.\n",
    "\n",
    "def get_users(group_id):\n",
    "    # Создадим лист, куда будем собирать данные и укажем стартовый оффсет - 0, с помощью нашей функции высчитаем максимальный\n",
    "    good_id_list = []\n",
    "    offset = 0\n",
    "    max_offset = get_offset(group_id) * 1000\n",
    "    # Будем продолжать работу, пока текущий оффсет не будет равен максимальному. Сделаем запрос к группе и достанем необходимые данные\n",
    "    while offset <= max_offset:\n",
    "        response = vk_api.groups.getMembers(group_id = group_id,\n",
    "                                            v=5.103,\n",
    "                                            sort='id_desc',\n",
    "                                            offset=offset,\n",
    "                                            fields=['last_seen', 'sex', 'bdate', 'country', 'city'])\n",
    "        # Прибивим в каунтер офсет\n",
    "        offset += 1000\n",
    "        time.sleep(3)\n",
    "        №\n",
    "        for item in response['items']:\n",
    "            try:\n",
    "                \n",
    "                #Условие, что пользователь заходил в ВК после 1 декабря 2020 - отсеим ботов и все такое\n",
    "                if item['last_seen']['time'] >= 1606780800:\n",
    "                  #and item['country']['title'] == 1:      включить для сбора только РФ\n",
    "                    good_id_list.append(item['id'])\n",
    "                    # Для каждых пользователей будем пытаться достать необходимые данные и записывать их отсутсвие, если не выйдет\n",
    "                    try:\n",
    "                        good_id_list.append(item['sex'])\n",
    "                    except:\n",
    "                        good_id_list.append('Unfiled_sex')\n",
    "                    \n",
    "                    try:\n",
    "                        good_id_list.append(item['country']['title'])\n",
    "                    except:\n",
    "                        good_id_list.append('Unfiled_country')\n",
    "                    \n",
    "                    try:\n",
    "                        good_id_list.append(item['city']['title'])\n",
    "                    except:\n",
    "                        good_id_list.append('Unfiled_city')\n",
    "                        \n",
    "                    try:\n",
    "                        good_id_list.append(item['bdate'])\n",
    "                    except:\n",
    "                        good_id_list.append('Unfiled_bdate')\n",
    "                              \n",
    "            except:\n",
    "                continue\n",
    "                \n",
    "    return good_id_list"
   ]
  },
  {
   "cell_type": "code",
   "execution_count": 42,
   "id": "heard-mumbai",
   "metadata": {},
   "outputs": [],
   "source": [
    "# Засетапим каунтер и список, в который будем записывать собранные данные\n",
    "\n",
    "all_users = []\n",
    "counter = 1"
   ]
  },
  {
   "cell_type": "code",
   "execution_count": 64,
   "id": "bright-organization",
   "metadata": {},
   "outputs": [
    {
     "name": "stdout",
     "output_type": "stream",
     "text": [
      "2 morethanthree, 3 publicvoodoosh, CPU times: user 452 ms, sys: 44.2 ms, total: 496 ms\n",
      "Wall time: 1min 52s\n"
     ]
    }
   ],
   "source": [
    "%%time\n",
    "\n",
    "# all_users = []\n",
    "# counter = 1\n",
    "\n",
    "for group in group_list:\n",
    "    \n",
    "    try:\n",
    "        users = get_users(group)\n",
    "        all_users.extend(users)\n",
    "        print(counter, group, end=\", \")\n",
    "        time.sleep(10)\n",
    "        \n",
    "    except:\n",
    "        try:\n",
    "            time.sleep(10)\n",
    "            users = get_users(group)\n",
    "            all_users.extend(users)\n",
    "            print(counter, group, end=\", \")\n",
    "        \n",
    "        except:\n",
    "            print(counter, group, \"ERROR\", end=\", \")\n",
    "            continue\n",
    "        \n",
    "    counter += 1"
   ]
  },
  {
   "cell_type": "code",
   "execution_count": 66,
   "id": "stunning-viewer",
   "metadata": {},
   "outputs": [
    {
     "name": "stdout",
     "output_type": "stream",
     "text": [
      "CPU times: user 2 µs, sys: 1e+03 ns, total: 3 µs\n",
      "Wall time: 4.77 µs\n"
     ]
    },
    {
     "data": {
      "text/html": [
       "<div>\n",
       "<style scoped>\n",
       "    .dataframe tbody tr th:only-of-type {\n",
       "        vertical-align: middle;\n",
       "    }\n",
       "\n",
       "    .dataframe tbody tr th {\n",
       "        vertical-align: top;\n",
       "    }\n",
       "\n",
       "    .dataframe thead th {\n",
       "        text-align: right;\n",
       "    }\n",
       "</style>\n",
       "<table border=\"1\" class=\"dataframe\">\n",
       "  <thead>\n",
       "    <tr style=\"text-align: right;\">\n",
       "      <th></th>\n",
       "      <th>id</th>\n",
       "      <th>sex</th>\n",
       "      <th>country</th>\n",
       "      <th>city</th>\n",
       "      <th>bdate</th>\n",
       "    </tr>\n",
       "  </thead>\n",
       "  <tbody>\n",
       "    <tr>\n",
       "      <th>0</th>\n",
       "      <td>657980277</td>\n",
       "      <td>Male</td>\n",
       "      <td>Украина</td>\n",
       "      <td>Запорожье</td>\n",
       "      <td>1996</td>\n",
       "    </tr>\n",
       "    <tr>\n",
       "      <th>1</th>\n",
       "      <td>657677380</td>\n",
       "      <td>Male</td>\n",
       "      <td>Россия</td>\n",
       "      <td>Санкт-Петербург</td>\n",
       "      <td>1994</td>\n",
       "    </tr>\n",
       "    <tr>\n",
       "      <th>2</th>\n",
       "      <td>657433879</td>\n",
       "      <td>Female</td>\n",
       "      <td>Unfiled_country</td>\n",
       "      <td>Unfiled_city</td>\n",
       "      <td>Unfiled_bdate</td>\n",
       "    </tr>\n",
       "    <tr>\n",
       "      <th>3</th>\n",
       "      <td>655125877</td>\n",
       "      <td>Male</td>\n",
       "      <td>Unfiled_country</td>\n",
       "      <td>Unfiled_city</td>\n",
       "      <td>Unfiled_bdate</td>\n",
       "    </tr>\n",
       "    <tr>\n",
       "      <th>4</th>\n",
       "      <td>652396719</td>\n",
       "      <td>Female</td>\n",
       "      <td>Unfiled_country</td>\n",
       "      <td>Unfiled_city</td>\n",
       "      <td>1996</td>\n",
       "    </tr>\n",
       "    <tr>\n",
       "      <th>...</th>\n",
       "      <td>...</td>\n",
       "      <td>...</td>\n",
       "      <td>...</td>\n",
       "      <td>...</td>\n",
       "      <td>...</td>\n",
       "    </tr>\n",
       "    <tr>\n",
       "      <th>34767</th>\n",
       "      <td>16832</td>\n",
       "      <td>Male</td>\n",
       "      <td>Россия</td>\n",
       "      <td>Санкт-Петербург</td>\n",
       "      <td>Unfiled_bdate</td>\n",
       "    </tr>\n",
       "    <tr>\n",
       "      <th>34768</th>\n",
       "      <td>16506</td>\n",
       "      <td>Male</td>\n",
       "      <td>Россия</td>\n",
       "      <td>Москва</td>\n",
       "      <td>1988</td>\n",
       "    </tr>\n",
       "    <tr>\n",
       "      <th>34769</th>\n",
       "      <td>14605</td>\n",
       "      <td>Male</td>\n",
       "      <td>Россия</td>\n",
       "      <td>Санкт-Петербург</td>\n",
       "      <td>1988</td>\n",
       "    </tr>\n",
       "    <tr>\n",
       "      <th>34770</th>\n",
       "      <td>9486</td>\n",
       "      <td>Male</td>\n",
       "      <td>Россия</td>\n",
       "      <td>Москва</td>\n",
       "      <td>Unfiled_bdate</td>\n",
       "    </tr>\n",
       "    <tr>\n",
       "      <th>34771</th>\n",
       "      <td>5563</td>\n",
       "      <td>Male</td>\n",
       "      <td>Россия</td>\n",
       "      <td>Санкт-Петербург</td>\n",
       "      <td>Unfiled_bdate</td>\n",
       "    </tr>\n",
       "  </tbody>\n",
       "</table>\n",
       "<p>34772 rows × 5 columns</p>\n",
       "</div>"
      ],
      "text/plain": [
       "              id     sex          country             city          bdate\n",
       "0      657980277    Male          Украина        Запорожье           1996\n",
       "1      657677380    Male           Россия  Санкт-Петербург           1994\n",
       "2      657433879  Female  Unfiled_country     Unfiled_city  Unfiled_bdate\n",
       "3      655125877    Male  Unfiled_country     Unfiled_city  Unfiled_bdate\n",
       "4      652396719  Female  Unfiled_country     Unfiled_city           1996\n",
       "...          ...     ...              ...              ...            ...\n",
       "34767      16832    Male           Россия  Санкт-Петербург  Unfiled_bdate\n",
       "34768      16506    Male           Россия           Москва           1988\n",
       "34769      14605    Male           Россия  Санкт-Петербург           1988\n",
       "34770       9486    Male           Россия           Москва  Unfiled_bdate\n",
       "34771       5563    Male           Россия  Санкт-Петербург  Unfiled_bdate\n",
       "\n",
       "[34772 rows x 5 columns]"
      ]
     },
     "execution_count": 66,
     "metadata": {},
     "output_type": "execute_result"
    }
   ],
   "source": [
    "# сделаем датафрейм и раскидаем по столбцам. Также переведем названия полов в цифры и укажем года рождения если есть, если нет - укажем эту инфу\n",
    "\n",
    "%time\n",
    "\n",
    "all_users_total = pd.DataFrame()\n",
    "\n",
    "all_users_total['id'] = all_users[0::5]\n",
    "all_users_total['sex'] = all_users[1::5]\n",
    "all_users_total['country'] = all_users[2::5]\n",
    "all_users_total['city'] = all_users[3::5]\n",
    "all_users_total['bdate'] = all_users[4::5]\n",
    "\n",
    "all_users_total['sex'] = all_users_total['sex'].replace(0, \"Unfiled_sex\")\n",
    "all_users_total['sex'] = all_users_total['sex'].replace(1, \"Female\")\n",
    "all_users_total['sex'] = all_users_total['sex'].replace(2, \"Male\")\n",
    "\n",
    "all_users_total['bdate'] = all_users_total['bdate'].str.extract(r\"(\\d{4})\").fillna(\"Unfiled_bdate\")\n",
    "\n",
    "all_users_total"
   ]
  },
  {
   "cell_type": "code",
   "execution_count": 67,
   "id": "raised-czech",
   "metadata": {},
   "outputs": [
    {
     "data": {
      "text/html": [
       "<div>\n",
       "<style scoped>\n",
       "    .dataframe tbody tr th:only-of-type {\n",
       "        vertical-align: middle;\n",
       "    }\n",
       "\n",
       "    .dataframe tbody tr th {\n",
       "        vertical-align: top;\n",
       "    }\n",
       "\n",
       "    .dataframe thead th {\n",
       "        text-align: right;\n",
       "    }\n",
       "</style>\n",
       "<table border=\"1\" class=\"dataframe\">\n",
       "  <thead>\n",
       "    <tr style=\"text-align: right;\">\n",
       "      <th></th>\n",
       "      <th>id</th>\n",
       "      <th>sex</th>\n",
       "      <th>country</th>\n",
       "      <th>city</th>\n",
       "      <th>bdate</th>\n",
       "    </tr>\n",
       "  </thead>\n",
       "  <tbody>\n",
       "    <tr>\n",
       "      <th>0</th>\n",
       "      <td>657980277</td>\n",
       "      <td>Male</td>\n",
       "      <td>Украина</td>\n",
       "      <td>Запорожье</td>\n",
       "      <td>1996</td>\n",
       "    </tr>\n",
       "    <tr>\n",
       "      <th>1</th>\n",
       "      <td>657677380</td>\n",
       "      <td>Male</td>\n",
       "      <td>Россия</td>\n",
       "      <td>Санкт-Петербург</td>\n",
       "      <td>1994</td>\n",
       "    </tr>\n",
       "    <tr>\n",
       "      <th>2</th>\n",
       "      <td>657433879</td>\n",
       "      <td>Female</td>\n",
       "      <td>Unfiled_country</td>\n",
       "      <td>Unfiled_city</td>\n",
       "      <td>Unfiled_bdate</td>\n",
       "    </tr>\n",
       "    <tr>\n",
       "      <th>3</th>\n",
       "      <td>655125877</td>\n",
       "      <td>Male</td>\n",
       "      <td>Unfiled_country</td>\n",
       "      <td>Unfiled_city</td>\n",
       "      <td>Unfiled_bdate</td>\n",
       "    </tr>\n",
       "    <tr>\n",
       "      <th>4</th>\n",
       "      <td>652396719</td>\n",
       "      <td>Female</td>\n",
       "      <td>Unfiled_country</td>\n",
       "      <td>Unfiled_city</td>\n",
       "      <td>1996</td>\n",
       "    </tr>\n",
       "    <tr>\n",
       "      <th>...</th>\n",
       "      <td>...</td>\n",
       "      <td>...</td>\n",
       "      <td>...</td>\n",
       "      <td>...</td>\n",
       "      <td>...</td>\n",
       "    </tr>\n",
       "    <tr>\n",
       "      <th>34767</th>\n",
       "      <td>16832</td>\n",
       "      <td>Male</td>\n",
       "      <td>Россия</td>\n",
       "      <td>Санкт-Петербург</td>\n",
       "      <td>Unfiled_bdate</td>\n",
       "    </tr>\n",
       "    <tr>\n",
       "      <th>34768</th>\n",
       "      <td>16506</td>\n",
       "      <td>Male</td>\n",
       "      <td>Россия</td>\n",
       "      <td>Москва</td>\n",
       "      <td>1988</td>\n",
       "    </tr>\n",
       "    <tr>\n",
       "      <th>34769</th>\n",
       "      <td>14605</td>\n",
       "      <td>Male</td>\n",
       "      <td>Россия</td>\n",
       "      <td>Санкт-Петербург</td>\n",
       "      <td>1988</td>\n",
       "    </tr>\n",
       "    <tr>\n",
       "      <th>34770</th>\n",
       "      <td>9486</td>\n",
       "      <td>Male</td>\n",
       "      <td>Россия</td>\n",
       "      <td>Москва</td>\n",
       "      <td>Unfiled_bdate</td>\n",
       "    </tr>\n",
       "    <tr>\n",
       "      <th>34771</th>\n",
       "      <td>5563</td>\n",
       "      <td>Male</td>\n",
       "      <td>Россия</td>\n",
       "      <td>Санкт-Петербург</td>\n",
       "      <td>Unfiled_bdate</td>\n",
       "    </tr>\n",
       "  </tbody>\n",
       "</table>\n",
       "<p>24203 rows × 5 columns</p>\n",
       "</div>"
      ],
      "text/plain": [
       "              id     sex          country             city          bdate\n",
       "0      657980277    Male          Украина        Запорожье           1996\n",
       "1      657677380    Male           Россия  Санкт-Петербург           1994\n",
       "2      657433879  Female  Unfiled_country     Unfiled_city  Unfiled_bdate\n",
       "3      655125877    Male  Unfiled_country     Unfiled_city  Unfiled_bdate\n",
       "4      652396719  Female  Unfiled_country     Unfiled_city           1996\n",
       "...          ...     ...              ...              ...            ...\n",
       "34767      16832    Male           Россия  Санкт-Петербург  Unfiled_bdate\n",
       "34768      16506    Male           Россия           Москва           1988\n",
       "34769      14605    Male           Россия  Санкт-Петербург           1988\n",
       "34770       9486    Male           Россия           Москва  Unfiled_bdate\n",
       "34771       5563    Male           Россия  Санкт-Петербург  Unfiled_bdate\n",
       "\n",
       "[24203 rows x 5 columns]"
      ]
     },
     "execution_count": 67,
     "metadata": {},
     "output_type": "execute_result"
    }
   ],
   "source": [
    "# получим уникальное кол-во пользователей\n",
    "\n",
    "all_users_unique = all_users_total.drop_duplicates(subset='id')\n",
    "\n",
    "all_users_unique"
   ]
  },
  {
   "cell_type": "code",
   "execution_count": 68,
   "id": "understanding-disaster",
   "metadata": {},
   "outputs": [
    {
     "name": "stdout",
     "output_type": "stream",
     "text": [
      "Уникальных пользователей групп: 24203\n",
      "Всего пользователей групп (в т.ч. дубликаты): 34772\n",
      "% пересечения: 0.3\n"
     ]
    }
   ],
   "source": [
    "# выведем красоту\n",
    "\n",
    "print(\"Уникальных пользователей групп:\", all_users_total['id'].unique().shape[0])\n",
    "print(\"Всего пользователей групп (в т.ч. дубликаты):\", all_users_total.shape[0])\n",
    "print(\"% пересечения:\", round(1 - (all_users_unique['id'].shape[0] / all_users_total.shape[0]), 2))"
   ]
  },
  {
   "cell_type": "code",
   "execution_count": 69,
   "id": "functional-location",
   "metadata": {},
   "outputs": [],
   "source": [
    "# сохраним данные\n",
    "\n",
    "all_users_unique.to_csv(\"data/all_users_unique_1.txt\", index=False)\n",
    "all_users_total.to_csv(\"data/all_users_total_1.txt\", index=False)"
   ]
  },
  {
   "cell_type": "markdown",
   "id": "average-forest",
   "metadata": {},
   "source": [
    "# Этап анализа полученных данных (EDA)"
   ]
  },
  {
   "cell_type": "code",
   "execution_count": 8,
   "id": "configured-condition",
   "metadata": {},
   "outputs": [],
   "source": [
    "# Загрузим уникальных пользователей\n",
    "\n",
    "df_unique = pd.read_csv(\"data/all_users_unique_1.txt\")"
   ]
  },
  {
   "cell_type": "code",
   "execution_count": 92,
   "id": "approved-petite",
   "metadata": {},
   "outputs": [
    {
     "data": {
      "text/plain": [
       "(country\n",
       " Россия             16503\n",
       " Unfiled_country     3771\n",
       " Украина             1334\n",
       " Беларусь             988\n",
       " Казахстан            257\n",
       " США                  212\n",
       " Латвия               103\n",
       " Германия             102\n",
       " Эстония               75\n",
       " Япония                72\n",
       " dtype: int64,\n",
       " country\n",
       " Россия             0.68\n",
       " Unfiled_country    0.16\n",
       " Украина            0.06\n",
       " Беларусь           0.04\n",
       " Казахстан          0.01\n",
       " США                0.01\n",
       " Латвия             0.00\n",
       " Германия           0.00\n",
       " Эстония            0.00\n",
       " Япония             0.00\n",
       " dtype: float64)"
      ]
     },
     "execution_count": 92,
     "metadata": {},
     "output_type": "execute_result"
    }
   ],
   "source": [
    "# Распределение пользователей по странам - абсолютные значения\n",
    "\n",
    "df_unique.value_counts(subset='country', normalize=False).round(2).head(10),df_unique.value_counts(subset='country', normalize=True).round(2).head(10)"
   ]
  },
  {
   "cell_type": "code",
   "execution_count": 93,
   "id": "intelligent-columbus",
   "metadata": {},
   "outputs": [
    {
     "data": {
      "text/plain": [
       "(city\n",
       " Москва             3182\n",
       " Unfiled_city       2306\n",
       " Санкт-Петербург    1875\n",
       " Екатеринбург        346\n",
       " Новосибирск         338\n",
       " Нижний Новгород     306\n",
       " Краснодар           222\n",
       " Челябинск           220\n",
       " Ростов-на-Дону      219\n",
       " Воронеж             203\n",
       " dtype: int64,\n",
       " city\n",
       " Москва             0.19\n",
       " Unfiled_city       0.14\n",
       " Санкт-Петербург    0.11\n",
       " Екатеринбург       0.02\n",
       " Новосибирск        0.02\n",
       " Нижний Новгород    0.02\n",
       " Краснодар          0.01\n",
       " Челябинск          0.01\n",
       " Ростов-на-Дону     0.01\n",
       " Воронеж            0.01\n",
       " dtype: float64)"
      ]
     },
     "execution_count": 93,
     "metadata": {},
     "output_type": "execute_result"
    }
   ],
   "source": [
    "# Распределение пользователей по городам РФ\n",
    "\n",
    "df_unique[df_unique['country'] == 'Россия'].value_counts(subset='city', normalize=False).round(2).head(10) , df_unique[df_unique['country'] == 'Россия'].value_counts(subset='city', normalize=True).round(2).head(10)"
   ]
  },
  {
   "cell_type": "code",
   "execution_count": 100,
   "id": "activated-switch",
   "metadata": {},
   "outputs": [
    {
     "data": {
      "text/plain": [
       "city\n",
       "Москва             0.22\n",
       "Санкт-Петербург    0.13\n",
       "Екатеринбург       0.02\n",
       "Новосибирск        0.02\n",
       "Нижний Новгород    0.02\n",
       "Краснодар          0.02\n",
       "Челябинск          0.02\n",
       "Ростов-на-Дону     0.02\n",
       "Воронеж            0.01\n",
       "Самара             0.01\n",
       "dtype: float64"
      ]
     },
     "execution_count": 100,
     "metadata": {},
     "output_type": "execute_result"
    }
   ],
   "source": [
    "# Распределение пользователей по городам РФ (не учитываются пользователи, которые не указали город)\n",
    "\n",
    "df_unique[(df_unique['country'] == 'Россия') & (df_unique['city'] != 'Unfiled_city')].value_counts(subset='city',normalize=True).round(2).head(10)"
   ]
  },
  {
   "cell_type": "code",
   "execution_count": 101,
   "id": "brilliant-central",
   "metadata": {},
   "outputs": [
    {
     "data": {
      "text/plain": [
       "(sex\n",
       " Male      15193\n",
       " Female     1310\n",
       " dtype: int64,\n",
       " sex\n",
       " Male      0.92\n",
       " Female    0.08\n",
       " dtype: float64)"
      ]
     },
     "execution_count": 101,
     "metadata": {},
     "output_type": "execute_result"
    }
   ],
   "source": [
    "# Распределение пользователей из РФ по полу\n",
    "\n",
    "df_unique[df_unique['country'] == 'Россия'].value_counts(subset='sex', normalize=False) , df_unique[df_unique['country'] == 'Россия'].value_counts(subset='sex', normalize=True).round(2)"
   ]
  },
  {
   "cell_type": "code",
   "execution_count": 102,
   "id": "aquatic-virginia",
   "metadata": {},
   "outputs": [
    {
     "data": {
      "text/plain": [
       "bdate\n",
       "Unfiled_bdate    0.52\n",
       "1996             0.04\n",
       "1997             0.04\n",
       "1994             0.04\n",
       "1995             0.04\n",
       "1998             0.03\n",
       "1999             0.03\n",
       "1993             0.03\n",
       "1992             0.03\n",
       "1991             0.03\n",
       "dtype: float64"
      ]
     },
     "execution_count": 102,
     "metadata": {},
     "output_type": "execute_result"
    }
   ],
   "source": [
    "# Распределение пользователей из РФ по году рождения\n",
    "\n",
    "df_unique[df_unique['country'] == 'Россия'].value_counts(subset='bdate', normalize=True).round(2).head(10)"
   ]
  },
  {
   "cell_type": "code",
   "execution_count": 103,
   "id": "legislative-rebel",
   "metadata": {},
   "outputs": [
    {
     "name": "stderr",
     "output_type": "stream",
     "text": [
      "/opt/anaconda3/lib/python3.7/site-packages/ipykernel_launcher.py:8: SettingWithCopyWarning: \n",
      "A value is trying to be set on a copy of a slice from a DataFrame.\n",
      "Try using .loc[row_indexer,col_indexer] = value instead\n",
      "\n",
      "See the caveats in the documentation: https://pandas.pydata.org/pandas-docs/stable/user_guide/indexing.html#returning-a-view-versus-a-copy\n",
      "  \n"
     ]
    }
   ],
   "source": [
    "# Посмотрим детальнее на возраст пользователей из РФ, которые его указали. Высяим кол-во лет c точностью ±1 год\n",
    "\n",
    "bdate_russia_clear = pd.DataFrame()\n",
    "\n",
    "bdate_russia_clear = df_unique[(df_unique['country'] == 'Россия')\n",
    "          & (df_unique['bdate'] != 'Unfiled_bdate')]\n",
    "\n",
    "bdate_russia_clear['years'] = 2021 - bdate_russia_clear['bdate'].astype(int)"
   ]
  },
  {
   "cell_type": "code",
   "execution_count": 104,
   "id": "incorporate-baghdad",
   "metadata": {},
   "outputs": [
    {
     "data": {
      "text/plain": [
       "count    7966.0\n",
       "mean       29.0\n",
       "std        13.0\n",
       "min        14.0\n",
       "25%        23.0\n",
       "50%        27.0\n",
       "75%        31.0\n",
       "max       119.0\n",
       "Name: years, dtype: float64"
      ]
     },
     "execution_count": 104,
     "metadata": {},
     "output_type": "execute_result"
    }
   ],
   "source": [
    "bdate_russia_clear['years'].describe().round()"
   ]
  },
  {
   "cell_type": "code",
   "execution_count": null,
   "id": "understood-shadow",
   "metadata": {},
   "outputs": [],
   "source": [
    "# Расчитаем и уберем выбросы\n",
    "\n",
    "q1 = bdate_russia_clear['years'].quantile(0.25)\n",
    "q3 = bdate_russia_clear['years'].quantile(0.75)\n",
    "IQR = q3 - q1\n",
    "\n",
    "upper = q3 + (IQR * 1.5)\n",
    "lower = q1 - (IQR * 1.5)\n",
    "\n",
    "print(\"Нижняя граница выбросов:\", lower)\n",
    "print(\"Верхняя граница выбросов:\", upper)"
   ]
  },
  {
   "cell_type": "code",
   "execution_count": 105,
   "id": "novel-flashing",
   "metadata": {},
   "outputs": [
    {
     "name": "stdout",
     "output_type": "stream",
     "text": [
      "Нижняя граница выбросов: 11.0\n",
      "Верхняя граница выбросов: 43.0\n"
     ]
    }
   ],
   "source": [
    "# Расчитаем и уберем выбросы\n",
    "\n",
    "q1 = bdate_russia_clear['years'].quantile(0.25)\n",
    "q3 = bdate_russia_clear['years'].quantile(0.75)\n",
    "IQR = q3 - q1\n",
    "\n",
    "upper = q3 + (IQR * 1.5)\n",
    "lower = q1 - (IQR * 1.5)\n",
    "\n",
    "print(\"Нижняя граница выбросов:\", lower)\n",
    "print(\"Верхняя граница выбросов:\", upper)"
   ]
  },
  {
   "cell_type": "code",
   "execution_count": 106,
   "id": "numerous-computer",
   "metadata": {},
   "outputs": [],
   "source": [
    "# Пользователи, которые указали страну Россией и указали возраст, очищенные от выбросов\n",
    "\n",
    "bdate_russia_clear_filtered = bdate_russia_clear[(bdate_russia_clear['years'] < upper) &\n",
    "                                                 (bdate_russia_clear['years'] > lower)]"
   ]
  },
  {
   "cell_type": "code",
   "execution_count": 107,
   "id": "desperate-alexander",
   "metadata": {},
   "outputs": [
    {
     "data": {
      "text/html": [
       "<div>\n",
       "<style scoped>\n",
       "    .dataframe tbody tr th:only-of-type {\n",
       "        vertical-align: middle;\n",
       "    }\n",
       "\n",
       "    .dataframe tbody tr th {\n",
       "        vertical-align: top;\n",
       "    }\n",
       "\n",
       "    .dataframe thead th {\n",
       "        text-align: right;\n",
       "    }\n",
       "</style>\n",
       "<table border=\"1\" class=\"dataframe\">\n",
       "  <thead>\n",
       "    <tr style=\"text-align: right;\">\n",
       "      <th></th>\n",
       "      <th>id</th>\n",
       "      <th>sex</th>\n",
       "      <th>country</th>\n",
       "      <th>city</th>\n",
       "      <th>bdate</th>\n",
       "      <th>years</th>\n",
       "    </tr>\n",
       "  </thead>\n",
       "  <tbody>\n",
       "    <tr>\n",
       "      <th>1</th>\n",
       "      <td>657677380</td>\n",
       "      <td>Male</td>\n",
       "      <td>Россия</td>\n",
       "      <td>Санкт-Петербург</td>\n",
       "      <td>1994</td>\n",
       "      <td>27</td>\n",
       "    </tr>\n",
       "    <tr>\n",
       "      <th>10</th>\n",
       "      <td>645932548</td>\n",
       "      <td>Male</td>\n",
       "      <td>Россия</td>\n",
       "      <td>Тамбов</td>\n",
       "      <td>1988</td>\n",
       "      <td>33</td>\n",
       "    </tr>\n",
       "    <tr>\n",
       "      <th>11</th>\n",
       "      <td>644772513</td>\n",
       "      <td>Male</td>\n",
       "      <td>Россия</td>\n",
       "      <td>Нижневартовск</td>\n",
       "      <td>1996</td>\n",
       "      <td>25</td>\n",
       "    </tr>\n",
       "    <tr>\n",
       "      <th>13</th>\n",
       "      <td>642593087</td>\n",
       "      <td>Male</td>\n",
       "      <td>Россия</td>\n",
       "      <td>Москва</td>\n",
       "      <td>1993</td>\n",
       "      <td>28</td>\n",
       "    </tr>\n",
       "    <tr>\n",
       "      <th>15</th>\n",
       "      <td>641043090</td>\n",
       "      <td>Male</td>\n",
       "      <td>Россия</td>\n",
       "      <td>Москва</td>\n",
       "      <td>1987</td>\n",
       "      <td>34</td>\n",
       "    </tr>\n",
       "    <tr>\n",
       "      <th>...</th>\n",
       "      <td>...</td>\n",
       "      <td>...</td>\n",
       "      <td>...</td>\n",
       "      <td>...</td>\n",
       "      <td>...</td>\n",
       "      <td>...</td>\n",
       "    </tr>\n",
       "    <tr>\n",
       "      <th>24195</th>\n",
       "      <td>20665</td>\n",
       "      <td>Male</td>\n",
       "      <td>Россия</td>\n",
       "      <td>Санкт-Петербург</td>\n",
       "      <td>1981</td>\n",
       "      <td>40</td>\n",
       "    </tr>\n",
       "    <tr>\n",
       "      <th>24196</th>\n",
       "      <td>17576</td>\n",
       "      <td>Male</td>\n",
       "      <td>Россия</td>\n",
       "      <td>Санкт-Петербург</td>\n",
       "      <td>1989</td>\n",
       "      <td>32</td>\n",
       "    </tr>\n",
       "    <tr>\n",
       "      <th>24197</th>\n",
       "      <td>16839</td>\n",
       "      <td>Male</td>\n",
       "      <td>Россия</td>\n",
       "      <td>Санкт-Петербург</td>\n",
       "      <td>1989</td>\n",
       "      <td>32</td>\n",
       "    </tr>\n",
       "    <tr>\n",
       "      <th>24199</th>\n",
       "      <td>16506</td>\n",
       "      <td>Male</td>\n",
       "      <td>Россия</td>\n",
       "      <td>Москва</td>\n",
       "      <td>1988</td>\n",
       "      <td>33</td>\n",
       "    </tr>\n",
       "    <tr>\n",
       "      <th>24200</th>\n",
       "      <td>14605</td>\n",
       "      <td>Male</td>\n",
       "      <td>Россия</td>\n",
       "      <td>Санкт-Петербург</td>\n",
       "      <td>1988</td>\n",
       "      <td>33</td>\n",
       "    </tr>\n",
       "  </tbody>\n",
       "</table>\n",
       "<p>7666 rows × 6 columns</p>\n",
       "</div>"
      ],
      "text/plain": [
       "              id   sex country             city bdate  years\n",
       "1      657677380  Male  Россия  Санкт-Петербург  1994     27\n",
       "10     645932548  Male  Россия           Тамбов  1988     33\n",
       "11     644772513  Male  Россия    Нижневартовск  1996     25\n",
       "13     642593087  Male  Россия           Москва  1993     28\n",
       "15     641043090  Male  Россия           Москва  1987     34\n",
       "...          ...   ...     ...              ...   ...    ...\n",
       "24195      20665  Male  Россия  Санкт-Петербург  1981     40\n",
       "24196      17576  Male  Россия  Санкт-Петербург  1989     32\n",
       "24197      16839  Male  Россия  Санкт-Петербург  1989     32\n",
       "24199      16506  Male  Россия           Москва  1988     33\n",
       "24200      14605  Male  Россия  Санкт-Петербург  1988     33\n",
       "\n",
       "[7666 rows x 6 columns]"
      ]
     },
     "execution_count": 107,
     "metadata": {},
     "output_type": "execute_result"
    }
   ],
   "source": [
    "bdate_russia_clear_filtered"
   ]
  },
  {
   "cell_type": "code",
   "execution_count": 112,
   "id": "considered-ground",
   "metadata": {},
   "outputs": [
    {
     "data": {
      "text/plain": [
       "(count    7666.00\n",
       " mean       27.06\n",
       " std         5.09\n",
       " min        14.00\n",
       " 25%        23.00\n",
       " 50%        26.00\n",
       " 75%        31.00\n",
       " max        42.00\n",
       " Name: years, dtype: float64,\n",
       " 0    25\n",
       " dtype: int64)"
      ]
     },
     "execution_count": 112,
     "metadata": {},
     "output_type": "execute_result"
    }
   ],
   "source": [
    "# Посмотрим на меры изменчивости\n",
    "\n",
    "bdate_russia_clear_filtered['years'].describe().round(2)  , bdate_russia_clear_filtered['years'].mode()"
   ]
  },
  {
   "cell_type": "code",
   "execution_count": 115,
   "id": "victorian-masters",
   "metadata": {},
   "outputs": [
    {
     "data": {
      "text/plain": [
       "years\n",
       "25    657\n",
       "24    620\n",
       "27    581\n",
       "26    579\n",
       "23    560\n",
       "22    476\n",
       "28    452\n",
       "29    420\n",
       "30    418\n",
       "31    417\n",
       "21    374\n",
       "32    337\n",
       "33    314\n",
       "20    244\n",
       "34    236\n",
       "36    150\n",
       "35    148\n",
       "19    147\n",
       "37    108\n",
       "18     77\n",
       "38     69\n",
       "39     54\n",
       "17     48\n",
       "40     40\n",
       "41     37\n",
       "16     33\n",
       "42     31\n",
       "15     25\n",
       "14     14\n",
       "dtype: int64"
      ]
     },
     "execution_count": 115,
     "metadata": {},
     "output_type": "execute_result"
    }
   ],
   "source": [
    "# Итоговый возраст пользователей из россии без выбросов\n",
    "bdate_russia_clear_filtered.value_counts(subset='years',\n",
    "                                         normalize=False)"
   ]
  },
  {
   "cell_type": "code",
   "execution_count": 116,
   "id": "spatial-prague",
   "metadata": {},
   "outputs": [
    {
     "name": "stderr",
     "output_type": "stream",
     "text": [
      "/opt/anaconda3/lib/python3.7/site-packages/ipykernel_launcher.py:17: SettingWithCopyWarning: \n",
      "A value is trying to be set on a copy of a slice from a DataFrame.\n",
      "Try using .loc[row_indexer,col_indexer] = value instead\n",
      "\n",
      "See the caveats in the documentation: https://pandas.pydata.org/pandas-docs/stable/user_guide/indexing.html#returning-a-view-versus-a-copy\n"
     ]
    }
   ],
   "source": [
    "# Превратим числовую переменную в категориальную\n",
    "\n",
    "def range_years_func(x):\n",
    "    \n",
    "    if x < 18:\n",
    "        return \"Младше 18\"\n",
    "    \n",
    "    if x > 17 and x < 23:\n",
    "        return \"18-22\"    \n",
    "    \n",
    "    if x > 22 and x < 28:\n",
    "        return \"23-27\"\n",
    "    \n",
    "    if x > 27:\n",
    "        return \"Старше 27\"\n",
    "\n",
    "bdate_russia_clear_filtered['range_years'] = bdate_russia_clear_filtered['years'].astype(int).apply(range_years_func)"
   ]
  },
  {
   "cell_type": "code",
   "execution_count": 119,
   "id": "hispanic-raleigh",
   "metadata": {},
   "outputs": [
    {
     "data": {
      "text/plain": [
       "(range_years\n",
       " Старше 27    3231\n",
       " 23-27        2997\n",
       " 18-22        1318\n",
       " Младше 18     120\n",
       " dtype: int64,\n",
       " range_years\n",
       " Старше 27    0.42\n",
       " 23-27        0.39\n",
       " 18-22        0.17\n",
       " Младше 18    0.02\n",
       " dtype: float64)"
      ]
     },
     "execution_count": 119,
     "metadata": {},
     "output_type": "execute_result"
    }
   ],
   "source": [
    "# Пользователей по категориям возрастов\n",
    "\n",
    "bdate_russia_clear_filtered.value_counts(subset='range_years') , bdate_russia_clear_filtered.value_counts(subset='range_years', normalize=True).round(2)"
   ]
  },
  {
   "cell_type": "code",
   "execution_count": 120,
   "id": "artistic-gates",
   "metadata": {},
   "outputs": [
    {
     "data": {
      "text/html": [
       "<div>\n",
       "<style scoped>\n",
       "    .dataframe tbody tr th:only-of-type {\n",
       "        vertical-align: middle;\n",
       "    }\n",
       "\n",
       "    .dataframe tbody tr th {\n",
       "        vertical-align: top;\n",
       "    }\n",
       "\n",
       "    .dataframe thead th {\n",
       "        text-align: right;\n",
       "    }\n",
       "</style>\n",
       "<table border=\"1\" class=\"dataframe\">\n",
       "  <thead>\n",
       "    <tr style=\"text-align: right;\">\n",
       "      <th></th>\n",
       "      <th>id</th>\n",
       "      <th>sex</th>\n",
       "      <th>country</th>\n",
       "      <th>city</th>\n",
       "      <th>bdate</th>\n",
       "      <th>years</th>\n",
       "      <th>range_years</th>\n",
       "    </tr>\n",
       "  </thead>\n",
       "  <tbody>\n",
       "    <tr>\n",
       "      <th>1</th>\n",
       "      <td>657677380</td>\n",
       "      <td>Male</td>\n",
       "      <td>Россия</td>\n",
       "      <td>Санкт-Петербург</td>\n",
       "      <td>1994</td>\n",
       "      <td>27</td>\n",
       "      <td>23-27</td>\n",
       "    </tr>\n",
       "    <tr>\n",
       "      <th>10</th>\n",
       "      <td>645932548</td>\n",
       "      <td>Male</td>\n",
       "      <td>Россия</td>\n",
       "      <td>Тамбов</td>\n",
       "      <td>1988</td>\n",
       "      <td>33</td>\n",
       "      <td>Старше 27</td>\n",
       "    </tr>\n",
       "    <tr>\n",
       "      <th>11</th>\n",
       "      <td>644772513</td>\n",
       "      <td>Male</td>\n",
       "      <td>Россия</td>\n",
       "      <td>Нижневартовск</td>\n",
       "      <td>1996</td>\n",
       "      <td>25</td>\n",
       "      <td>23-27</td>\n",
       "    </tr>\n",
       "    <tr>\n",
       "      <th>13</th>\n",
       "      <td>642593087</td>\n",
       "      <td>Male</td>\n",
       "      <td>Россия</td>\n",
       "      <td>Москва</td>\n",
       "      <td>1993</td>\n",
       "      <td>28</td>\n",
       "      <td>Старше 27</td>\n",
       "    </tr>\n",
       "    <tr>\n",
       "      <th>15</th>\n",
       "      <td>641043090</td>\n",
       "      <td>Male</td>\n",
       "      <td>Россия</td>\n",
       "      <td>Москва</td>\n",
       "      <td>1987</td>\n",
       "      <td>34</td>\n",
       "      <td>Старше 27</td>\n",
       "    </tr>\n",
       "    <tr>\n",
       "      <th>...</th>\n",
       "      <td>...</td>\n",
       "      <td>...</td>\n",
       "      <td>...</td>\n",
       "      <td>...</td>\n",
       "      <td>...</td>\n",
       "      <td>...</td>\n",
       "      <td>...</td>\n",
       "    </tr>\n",
       "    <tr>\n",
       "      <th>24195</th>\n",
       "      <td>20665</td>\n",
       "      <td>Male</td>\n",
       "      <td>Россия</td>\n",
       "      <td>Санкт-Петербург</td>\n",
       "      <td>1981</td>\n",
       "      <td>40</td>\n",
       "      <td>Старше 27</td>\n",
       "    </tr>\n",
       "    <tr>\n",
       "      <th>24196</th>\n",
       "      <td>17576</td>\n",
       "      <td>Male</td>\n",
       "      <td>Россия</td>\n",
       "      <td>Санкт-Петербург</td>\n",
       "      <td>1989</td>\n",
       "      <td>32</td>\n",
       "      <td>Старше 27</td>\n",
       "    </tr>\n",
       "    <tr>\n",
       "      <th>24197</th>\n",
       "      <td>16839</td>\n",
       "      <td>Male</td>\n",
       "      <td>Россия</td>\n",
       "      <td>Санкт-Петербург</td>\n",
       "      <td>1989</td>\n",
       "      <td>32</td>\n",
       "      <td>Старше 27</td>\n",
       "    </tr>\n",
       "    <tr>\n",
       "      <th>24199</th>\n",
       "      <td>16506</td>\n",
       "      <td>Male</td>\n",
       "      <td>Россия</td>\n",
       "      <td>Москва</td>\n",
       "      <td>1988</td>\n",
       "      <td>33</td>\n",
       "      <td>Старше 27</td>\n",
       "    </tr>\n",
       "    <tr>\n",
       "      <th>24200</th>\n",
       "      <td>14605</td>\n",
       "      <td>Male</td>\n",
       "      <td>Россия</td>\n",
       "      <td>Санкт-Петербург</td>\n",
       "      <td>1988</td>\n",
       "      <td>33</td>\n",
       "      <td>Старше 27</td>\n",
       "    </tr>\n",
       "  </tbody>\n",
       "</table>\n",
       "<p>7666 rows × 7 columns</p>\n",
       "</div>"
      ],
      "text/plain": [
       "              id   sex country             city bdate  years range_years\n",
       "1      657677380  Male  Россия  Санкт-Петербург  1994     27       23-27\n",
       "10     645932548  Male  Россия           Тамбов  1988     33   Старше 27\n",
       "11     644772513  Male  Россия    Нижневартовск  1996     25       23-27\n",
       "13     642593087  Male  Россия           Москва  1993     28   Старше 27\n",
       "15     641043090  Male  Россия           Москва  1987     34   Старше 27\n",
       "...          ...   ...     ...              ...   ...    ...         ...\n",
       "24195      20665  Male  Россия  Санкт-Петербург  1981     40   Старше 27\n",
       "24196      17576  Male  Россия  Санкт-Петербург  1989     32   Старше 27\n",
       "24197      16839  Male  Россия  Санкт-Петербург  1989     32   Старше 27\n",
       "24199      16506  Male  Россия           Москва  1988     33   Старше 27\n",
       "24200      14605  Male  Россия  Санкт-Петербург  1988     33   Старше 27\n",
       "\n",
       "[7666 rows x 7 columns]"
      ]
     },
     "execution_count": 120,
     "metadata": {},
     "output_type": "execute_result"
    }
   ],
   "source": [
    "# Итоговый датафрейм с пользователями россии, указавших возраст и разбитых на возрастные группы.\n",
    "\n",
    "bdate_russia_clear_filtered"
   ]
  },
  {
   "cell_type": "code",
   "execution_count": 121,
   "id": "unlike-basket",
   "metadata": {},
   "outputs": [],
   "source": [
    "# сохраним пользователей воразст/россия\n",
    "bdate_russia_clear_filtered.to_csv(\"data/bdate_russia_clear_filtered.csv\", index=False)"
   ]
  },
  {
   "cell_type": "code",
   "execution_count": 37,
   "id": "0f021e7c-c664-4768-9ffa-4d31e74f30db",
   "metadata": {},
   "outputs": [
    {
     "name": "stderr",
     "output_type": "stream",
     "text": [
      "/opt/anaconda3/lib/python3.7/site-packages/ipykernel/ipkernel.py:287: DeprecationWarning: `should_run_async` will not call `transform_cell` automatically in the future. Please pass the result to `transformed_cell` argument and any exception that happen during thetransform in `preprocessing_exc_tuple` in IPython 7.17 and above.\n",
      "  and should_run_async(code)\n"
     ]
    }
   ],
   "source": [
    "#df1 = pd.read_csv(\"data/bdate_russia_clear_filtered.csv\")"
   ]
  }
 ],
 "metadata": {
  "kernelspec": {
   "display_name": "Python 3",
   "language": "python",
   "name": "python3"
  },
  "language_info": {
   "codemirror_mode": {
    "name": "ipython",
    "version": 3
   },
   "file_extension": ".py",
   "mimetype": "text/x-python",
   "name": "python",
   "nbconvert_exporter": "python",
   "pygments_lexer": "ipython3",
   "version": "3.7.4"
  }
 },
 "nbformat": 4,
 "nbformat_minor": 5
}
